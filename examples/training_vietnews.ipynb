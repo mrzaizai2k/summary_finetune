{
  "cells": [
    {
      "cell_type": "code",
      "execution_count": 1,
      "metadata": {},
      "outputs": [
        {
          "name": "stdout",
          "output_type": "stream",
          "text": [
            "/home/mrzaizai2k/code_Bao/ViT5/examples\n"
          ]
        }
      ],
      "source": [
        "import os\n",
        "try:\n",
        "    print(file_path)\n",
        "except:\n",
        "    file_path = os.path.abspath('')\n",
        "    os.chdir(os.path.dirname(file_path))\n",
        "    print(file_path)"
      ]
    },
    {
      "cell_type": "code",
      "execution_count": 2,
      "metadata": {},
      "outputs": [],
      "source": [
        "import sys\n",
        "sys.path.append(\"\")"
      ]
    },
    {
      "cell_type": "code",
      "execution_count": 3,
      "metadata": {
        "id": "3_GCCIaj7ulj"
      },
      "outputs": [],
      "source": [
        "# !wget 'https://github.com/ThanhChinhBK/vietnews/archive/master.zip'\n",
        "# !unzip 'master.zip'"
      ]
    },
    {
      "cell_type": "code",
      "execution_count": 4,
      "metadata": {
        "id": "TZYjioRkKviO"
      },
      "outputs": [
        {
          "name": "stderr",
          "output_type": "stream",
          "text": [
            "/home/mrzaizai2k/code_Bao/ViT5/venv/lib/python3.10/site-packages/tqdm/auto.py:21: TqdmWarning: IProgress not found. Please update jupyter and ipywidgets. See https://ipywidgets.readthedocs.io/en/stable/user_install.html\n",
            "  from .autonotebook import tqdm as notebook_tqdm\n"
          ]
        }
      ],
      "source": [
        "import glob\n",
        "import pandas as pd\n",
        "pd.set_option('display.max_columns', None)\n",
        "import concurrent.futures\n",
        "from datasets import *\n",
        "import datasets\n",
        "from sklearn.model_selection import train_test_split\n",
        "import transformers\n",
        "from transformers import AutoTokenizer, AutoModelForSeq2SeqLM\n",
        "\n",
        "# from vncorenlp import VnCoreNLP\n",
        "import torch \n",
        "import nltk\n",
        "from nltk.tokenize import sent_tokenize\n",
        "\n"
      ]
    },
    {
      "cell_type": "code",
      "execution_count": 5,
      "metadata": {
        "id": "Gx4Vg4cbEUJ_"
      },
      "outputs": [
        {
          "name": "stdout",
          "output_type": "stream",
          "text": [
            "Using cuda device\n"
          ]
        }
      ],
      "source": [
        "OUTPUT_DIR = 'vietnamese_mt5_summary_model_2'\n",
        "device = \"cuda\" if torch.cuda.is_available() else \"cpu\"\n",
        "print(f\"Using {device} device\")"
      ]
    },
    {
      "cell_type": "code",
      "execution_count": 6,
      "metadata": {},
      "outputs": [
        {
          "name": "stderr",
          "output_type": "stream",
          "text": [
            "[nltk_data] Downloading package punkt to /home/mrzaizai2k/nltk_data...\n",
            "[nltk_data]   Package punkt is already up-to-date!\n"
          ]
        },
        {
          "data": {
            "text/plain": [
              "True"
            ]
          },
          "execution_count": 6,
          "metadata": {},
          "output_type": "execute_result"
        }
      ],
      "source": [
        "nltk.download(\"punkt\")"
      ]
    },
    {
      "cell_type": "markdown",
      "metadata": {
        "id": "4IteMtlc58-y"
      },
      "source": [
        "## Processing data"
      ]
    },
    {
      "cell_type": "code",
      "execution_count": 7,
      "metadata": {
        "id": "UVkc5HmK6Bdd"
      },
      "outputs": [],
      "source": [
        "def listPaths(path):\n",
        "  pathfiles = list()\n",
        "  for pathfile in glob.glob(path):\n",
        "    pathfiles.append(pathfile)\n",
        "  return pathfiles\n",
        "\n",
        "train_paths = listPaths('data/vietnews-master/data/train_tokenized/*')\n",
        "val_paths = listPaths('data/vietnews-master/data/val_tokenized/*')\n",
        "test_paths = listPaths('data/vietnews-master/data/test_tokenized/*')"
      ]
    },
    {
      "cell_type": "code",
      "execution_count": 8,
      "metadata": {
        "id": "YZ8pgIYN7zSW"
      },
      "outputs": [],
      "source": [
        "def read_content(pathfile):\n",
        "    \"\"\"\n",
        "    Input: Path of txt file\n",
        "    Output: A dictionary has keys 'original' and 'summary'\n",
        "    \"\"\"\n",
        "    with open(pathfile) as f:\n",
        "      rows  = f.readlines()\n",
        "      original = ' '.join(''.join(rows[4:]).split('\\n'))\n",
        "      summary = ' '.join(rows[2].split('\\n'))\n",
        "            \n",
        "    return {'file' : pathfile,\n",
        "              'original': original, \n",
        "              'summary': summary}"
      ]
    },
    {
      "cell_type": "code",
      "execution_count": 9,
      "metadata": {
        "colab": {
          "base_uri": "https://localhost:8080/"
        },
        "id": "_716GF2iDTcD",
        "outputId": "07268442-c69d-4818-a69a-2f9200044eed"
      },
      "outputs": [
        {
          "data": {
            "text/plain": [
              "{'file': 'data/vietnews-master/data/train_tokenized/006157.txt.seg',\n",
              " 'original': 'Tập 4 Thần_tượng Âm_nhạc nhí - Vietnam_Idol_Kids 2017 lên sóng tối 2/6 với màn tranh tài của top 8 thí_sinh nữ để lựa_chọn ra 5 tấm vé vào tiếp vòng trong . Trong đó , 3 giám_khảo Isaac - Văn_Mai_Hương - Bích_Phương được quyền lựa_chọn 3 thí_sinh . 2 thí_sinh còn lại sẽ do các giám_khảo khách mời quyết_định . Nữ ca_sĩ Văn_Mai_Hương xúc_động : “ Cô có may_mắn năm nay ngồi ở vị_trí ban giám_khảo , may_mắn hơn là được gặp con . Mỗi khi gặp Hiền , cô tự thấy bản_thân cô rất kém , bởi có lúc cô không trân_trọng cũng như không tin vào bản_thân ... Cảm_ơn con , bởi đôi_khi có những cái cô không bằng con được , đó là sự lạc_quan . Và cô tin , còn rất nhiều người phải học đức_tính lạc_quan này của Hiền . Con hát rất là hay ” . Đồng_tình với ý_kiến của đồng_nghiệp , Bích_Phương cũng xúc_động chia_sẻ : “ Giọt nước_mắt dành cho con là sự khâm_phục chứ không phải là thương_cảm . Cô chưa bao_giờ thấy con buồn . Từ lúc xuất_hiện , lúc_nào con cũng cười thôi . Cô nghĩ là ngoài tinh_thần lạc_quan của Hiền làm cho mọi người phải khâm_phục nên mọi người mới khóc … Bên cạnh đó , con còn có giọng hát rất hay . Con rất xứng_đáng được sâu vào vòng trong ” . Hà_Linh  ',\n",
              " 'summary': 'Trên sân_khấu Vietnam_Idol_Kids 2017 , cô_bé khiếm_thị Minh_Hiền khiến giám_khảo và khán_giả lặng người khi tiết_lộ ước_mơ của bản_thân . '}"
            ]
          },
          "execution_count": 9,
          "metadata": {},
          "output_type": "execute_result"
        }
      ],
      "source": [
        "read_content(train_paths[0])"
      ]
    },
    {
      "cell_type": "code",
      "execution_count": 10,
      "metadata": {
        "id": "Wm5kLJD_840E"
      },
      "outputs": [],
      "source": [
        "def get_dataframe(pathfiles):\n",
        "    with concurrent.futures.ProcessPoolExecutor() as executor:\n",
        "      data = executor.map(read_content, pathfiles)\n",
        "    \n",
        "    # Make blank dataframe\n",
        "    data_df = list()\n",
        "    for d in data:\n",
        "      data_df.append(d)\n",
        "    data_df = pd.DataFrame(data_df)\n",
        "    data_df.dropna(inplace = True)\n",
        "    data_df = data_df.sample(frac=1).reset_index(drop=True)\n",
        "\n",
        "    return data_df"
      ]
    },
    {
      "cell_type": "code",
      "execution_count": 11,
      "metadata": {
        "id": "d4c0pl5BAl3f"
      },
      "outputs": [],
      "source": [
        "train_df = get_dataframe(train_paths[10001:15001])"
      ]
    },
    {
      "cell_type": "code",
      "execution_count": 12,
      "metadata": {
        "id": "DgMgMnisA0cf"
      },
      "outputs": [],
      "source": [
        "val_df = get_dataframe(val_paths[:500])\n",
        "test_df = get_dataframe(test_paths[:100])"
      ]
    },
    {
      "cell_type": "code",
      "execution_count": 13,
      "metadata": {},
      "outputs": [
        {
          "data": {
            "text/html": [
              "<div>\n",
              "<style scoped>\n",
              "    .dataframe tbody tr th:only-of-type {\n",
              "        vertical-align: middle;\n",
              "    }\n",
              "\n",
              "    .dataframe tbody tr th {\n",
              "        vertical-align: top;\n",
              "    }\n",
              "\n",
              "    .dataframe thead th {\n",
              "        text-align: right;\n",
              "    }\n",
              "</style>\n",
              "<table border=\"1\" class=\"dataframe\">\n",
              "  <thead>\n",
              "    <tr style=\"text-align: right;\">\n",
              "      <th></th>\n",
              "      <th>file</th>\n",
              "      <th>original</th>\n",
              "      <th>summary</th>\n",
              "    </tr>\n",
              "  </thead>\n",
              "  <tbody>\n",
              "    <tr>\n",
              "      <th>0</th>\n",
              "      <td>data/vietnews-master/data/test_tokenized/00682...</td>\n",
              "      <td>Tờ al - Watan hôm 14/3 cho_hay , các máy_bay c...</td>\n",
              "      <td>Các đơn_vị không_quân Syria và Nga đã tiến_hàn...</td>\n",
              "    </tr>\n",
              "    <tr>\n",
              "      <th>1</th>\n",
              "      <td>data/vietnews-master/data/test_tokenized/01857...</td>\n",
              "      <td>Đây là dự_án được các nhà_đầu_tư cũng như các ...</td>\n",
              "      <td>Công_ty_Cổ_phần Vinhomes vừa chính_thức ra_mắt...</td>\n",
              "    </tr>\n",
              "    <tr>\n",
              "      <th>2</th>\n",
              "      <td>data/vietnews-master/data/test_tokenized/01472...</td>\n",
              "      <td>Theo kế_hoạch của UBND thành_phố , tại lễ khai...</td>\n",
              "      <td>Ông Nguyễn_Đức_Chung , Chủ_tịch UBND TP Hà_Nội...</td>\n",
              "    </tr>\n",
              "    <tr>\n",
              "      <th>3</th>\n",
              "      <td>data/vietnews-master/data/test_tokenized/01308...</td>\n",
              "      <td>Tổng_Công_ty Đầu_tư phát_triển nhà và đô_thị (...</td>\n",
              "      <td>Tổng_công_ty HUD vừa đề_xuất với Bộ Xây_dựng c...</td>\n",
              "    </tr>\n",
              "    <tr>\n",
              "      <th>4</th>\n",
              "      <td>data/vietnews-master/data/test_tokenized/01895...</td>\n",
              "      <td>Hoạ_sĩ Hà_Hùng_Dũng theo_đuổi niềm đam_mê khai...</td>\n",
              "      <td>Vừa mang tranh lên Sa_Pa triển_lãm , hoạ_sĩ Hà...</td>\n",
              "    </tr>\n",
              "  </tbody>\n",
              "</table>\n",
              "</div>"
            ],
            "text/plain": [
              "                                                file  \\\n",
              "0  data/vietnews-master/data/test_tokenized/00682...   \n",
              "1  data/vietnews-master/data/test_tokenized/01857...   \n",
              "2  data/vietnews-master/data/test_tokenized/01472...   \n",
              "3  data/vietnews-master/data/test_tokenized/01308...   \n",
              "4  data/vietnews-master/data/test_tokenized/01895...   \n",
              "\n",
              "                                            original  \\\n",
              "0  Tờ al - Watan hôm 14/3 cho_hay , các máy_bay c...   \n",
              "1  Đây là dự_án được các nhà_đầu_tư cũng như các ...   \n",
              "2  Theo kế_hoạch của UBND thành_phố , tại lễ khai...   \n",
              "3  Tổng_Công_ty Đầu_tư phát_triển nhà và đô_thị (...   \n",
              "4  Hoạ_sĩ Hà_Hùng_Dũng theo_đuổi niềm đam_mê khai...   \n",
              "\n",
              "                                             summary  \n",
              "0  Các đơn_vị không_quân Syria và Nga đã tiến_hàn...  \n",
              "1  Công_ty_Cổ_phần Vinhomes vừa chính_thức ra_mắt...  \n",
              "2  Ông Nguyễn_Đức_Chung , Chủ_tịch UBND TP Hà_Nội...  \n",
              "3  Tổng_công_ty HUD vừa đề_xuất với Bộ Xây_dựng c...  \n",
              "4  Vừa mang tranh lên Sa_Pa triển_lãm , hoạ_sĩ Hà...  "
            ]
          },
          "execution_count": 13,
          "metadata": {},
          "output_type": "execute_result"
        }
      ],
      "source": [
        "test_df.head()"
      ]
    },
    {
      "cell_type": "code",
      "execution_count": 14,
      "metadata": {},
      "outputs": [],
      "source": [
        "# test_df.to_parquet(\"data/vietnews/test.parquet\", index=False)"
      ]
    },
    {
      "cell_type": "code",
      "execution_count": 15,
      "metadata": {},
      "outputs": [],
      "source": [
        "# train_df = pd.read_parquet(\"data/vietnews/train.parquet\")\n",
        "# val_df = pd.read_parquet(\"data/vietnews/val.parquet\")\n",
        "# test_df = pd.read_parquet(\"data/vietnews/test.parquet\")\n",
        "# test_df.head()"
      ]
    },
    {
      "cell_type": "code",
      "execution_count": 16,
      "metadata": {},
      "outputs": [],
      "source": [
        "# import matplotlib.pyplot as plt\n",
        "\n",
        "# train_df['word_count'] = train_df['summary'].apply(lambda x: len(x.split()))\n",
        "\n",
        "# # Plot the histogram\n",
        "# plt.figure(figsize=(10, 6))\n",
        "# plt.hist(train_df['word_count'], bins=100, edgecolor='black')\n",
        "# plt.title('Histogram of Number of Words in Sentences')\n",
        "# plt.xlabel('Number of Words')\n",
        "# plt.ylabel('Frequency')\n",
        "# plt.show()"
      ]
    },
    {
      "cell_type": "markdown",
      "metadata": {
        "id": "H1F58j028eTV"
      },
      "source": [
        "## **Warm-starting RoBERTaShared for BBC XSum**\n",
        "\n",
        "***Note***: This notebook only uses a few training, validation, and test data samples for demonstration purposes. To fine-tune an encoder-decoder model on the full training data, the user should change the training and data preprocessing parameters accordingly as highlighted by the comments.\n"
      ]
    },
    {
      "cell_type": "markdown",
      "metadata": {
        "id": "3FO5ESocXvlK"
      },
      "source": [
        "### **Data Preprocessing**\n"
      ]
    },
    {
      "cell_type": "code",
      "execution_count": 17,
      "metadata": {
        "id": "sgTiC0rhMb7C"
      },
      "outputs": [],
      "source": [
        "# pretrained_model = \"google/mt5-small\"\n",
        "pretrained_model = \"vietnamese_mt5_summary_model\"\n",
        "tokenizer = AutoTokenizer.from_pretrained(pretrained_model)\n"
      ]
    },
    {
      "cell_type": "code",
      "execution_count": 18,
      "metadata": {
        "id": "U08MrUK9LcUM"
      },
      "outputs": [],
      "source": [
        "train_data =  Dataset.from_pandas(train_df)\n",
        "val_data =  Dataset.from_pandas(val_df)\n",
        "test_data =  Dataset.from_pandas(test_df)"
      ]
    },
    {
      "cell_type": "code",
      "execution_count": 19,
      "metadata": {
        "colab": {
          "base_uri": "https://localhost:8080/",
          "height": 115,
          "referenced_widgets": [
            "70bb7c0669ca4a3699ad36dfdcc10910",
            "1ba158d2f09a4c54bc647ebe77d27b60",
            "5ac8ad6eea254d369996622911a6a79e",
            "0aeb387a0f53469c8ff42e57647831d8",
            "efd6b87b93244d5ca6817ab35c385510",
            "e22006901f10483882e1a1f20f645b24",
            "01644f724526402c9f139e19b2035073",
            "7097c890712d418e9dd9c3e33873a2d5",
            "b3ddde0882d841daa3bfde43ed6e6fc9",
            "09375b2aac814adcbb51589402eb8b68",
            "cab0cd369bfa4c80b963ebd27d3e4974",
            "db0264404d934633824b5b381b31a5ac",
            "63276058881e45539d8dcd4ff2e05edd",
            "03b57581ace346d2bde4378a7c6309ca",
            "5507016090f64bb99dcbf88e14d71eda",
            "0d6a0b11ec2a4c6d975857678415f505"
          ]
        },
        "id": "yoN2q0hZUbXN",
        "outputId": "20c6562f-7358-4dc7-dada-787bede963bc"
      },
      "outputs": [
        {
          "name": "stderr",
          "output_type": "stream",
          "text": [
            "Map: 100%|██████████| 5000/5000 [00:02<00:00, 1753.44 examples/s]\n",
            "Map: 100%|██████████| 500/500 [00:00<00:00, 1656.33 examples/s]\n"
          ]
        }
      ],
      "source": [
        "batch_size=16  # change to 16 for full training\n",
        "\n",
        "max_input_length = 512 #1024\n",
        "max_target_length = 128 #128\n",
        "\n",
        "\n",
        "def process_data_to_model_inputs(batch):\n",
        "    model_inputs = tokenizer(\n",
        "        batch[\"original\"],\n",
        "        max_length=max_input_length,\n",
        "        truncation=True,\n",
        "    )\n",
        "    labels = tokenizer(\n",
        "        batch[\"summary\"], max_length=max_target_length, truncation=True\n",
        "    )\n",
        "    model_inputs[\"labels\"] = labels[\"input_ids\"]\n",
        "    return model_inputs\n",
        "\n",
        "# only use 32 training examples for notebook - DELETE LINE FOR FULL TRAINING\n",
        "# train_data = train_data.select(range(32))\n",
        "\n",
        "train_data_batch = train_data.map(\n",
        "    process_data_to_model_inputs, \n",
        "    batched=True, \n",
        "    batch_size=batch_size, \n",
        "    remove_columns=[\"file\",\"original\", \"summary\"],\n",
        ")\n",
        "train_data_batch.set_format(\n",
        "    type=\"torch\", columns=[\"input_ids\", \"attention_mask\", \"labels\"],\n",
        ")\n",
        "\n",
        "\n",
        "# only use 16 training examples for notebook - DELETE LINE FOR FULL TRAINING\n",
        "# val_data = val_data.select(range(16))\n",
        "\n",
        "val_data_batch = val_data.map(\n",
        "    process_data_to_model_inputs, \n",
        "    batched=True, \n",
        "    batch_size=batch_size, \n",
        "    remove_columns=[\"file\", \"original\", \"summary\"],\n",
        ")\n",
        "val_data_batch.set_format(\n",
        "    type=\"torch\", columns=[\"input_ids\", \"attention_mask\", \"labels\"],\n",
        ")"
      ]
    },
    {
      "cell_type": "code",
      "execution_count": 20,
      "metadata": {},
      "outputs": [
        {
          "data": {
            "text/plain": [
              "0"
            ]
          },
          "execution_count": 20,
          "metadata": {},
          "output_type": "execute_result"
        }
      ],
      "source": [
        "tokenizer.pad_token_id"
      ]
    },
    {
      "cell_type": "code",
      "execution_count": 21,
      "metadata": {},
      "outputs": [
        {
          "data": {
            "text/plain": [
              "file        data/vietnews-master/data/train_tokenized/0574...\n",
              "original    Hình_ảnh người đàn_ông Trung_Quốc giương cung ...\n",
              "summary     Một người đàn_ông ở tỉnh Phúc_Kiến , Trung_Quố...\n",
              "Name: 0, dtype: object"
            ]
          },
          "execution_count": 21,
          "metadata": {},
          "output_type": "execute_result"
        }
      ],
      "source": [
        "train_df.iloc[0]"
      ]
    },
    {
      "cell_type": "code",
      "execution_count": 22,
      "metadata": {},
      "outputs": [
        {
          "name": "stdout",
          "output_type": "stream",
          "text": [
            "Một người đàn_ông ở tỉnh Phúc_Kiến , Trung_Quốc dùng cung tên kết_liễu mạng sống của chó cảnh nhà hàng_xóm . \n"
          ]
        },
        {
          "data": {
            "text/plain": [
              "{'input_ids': [352, 1266, 1672, 355, 2353, 290, 1735, 259, 1269, 259, 270, 4994, 1265, 2879, 5327, 290, 557, 10513, 259, 261, 259, 9978, 290, 1290, 8594, 331, 2201, 259, 13220, 259, 10282, 408, 1878, 290, 494, 6985, 273, 326, 1292, 318, 259, 263, 2160, 317, 708, 262, 259, 55337, 317, 5079, 677, 369, 3057, 290, 329, 18768, 259, 260, 259, 1], 'attention_mask': [1, 1, 1, 1, 1, 1, 1, 1, 1, 1, 1, 1, 1, 1, 1, 1, 1, 1, 1, 1, 1, 1, 1, 1, 1, 1, 1, 1, 1, 1, 1, 1, 1, 1, 1, 1, 1, 1, 1, 1, 1, 1, 1, 1, 1, 1, 1, 1, 1, 1, 1, 1, 1, 1, 1, 1, 1, 1, 1, 1]}"
            ]
          },
          "execution_count": 22,
          "metadata": {},
          "output_type": "execute_result"
        }
      ],
      "source": [
        "a = tokenizer(str(train_df[\"summary\"].iloc[0]))\n",
        "print(str(train_df[\"summary\"].iloc[0]))\n",
        "a"
      ]
    },
    {
      "cell_type": "code",
      "execution_count": 23,
      "metadata": {},
      "outputs": [],
      "source": [
        "# tokenizer.convert_ids_to_tokens(train_data_batch[0][\"labels\"])"
      ]
    },
    {
      "cell_type": "code",
      "execution_count": 24,
      "metadata": {},
      "outputs": [],
      "source": [
        "# train_data_batch[0]"
      ]
    },
    {
      "cell_type": "markdown",
      "metadata": {
        "id": "aEjb026cNC38"
      },
      "source": [
        "### **Warm-starting the Encoder-Decoder Model**"
      ]
    },
    {
      "cell_type": "code",
      "execution_count": 25,
      "metadata": {},
      "outputs": [
        {
          "name": "stdout",
          "output_type": "stream",
          "text": [
            "generation_config GenerationConfig {\n",
            "  \"decoder_start_token_id\": 0,\n",
            "  \"early_stopping\": true,\n",
            "  \"eos_token_id\": 1,\n",
            "  \"length_penalty\": 2.0,\n",
            "  \"max_length\": 256,\n",
            "  \"no_repeat_ngram_size\": 3,\n",
            "  \"num_beams\": 4,\n",
            "  \"pad_token_id\": 0\n",
            "}\n",
            "\n",
            "generation_config GenerationConfig {\n",
            "  \"decoder_start_token_id\": 0,\n",
            "  \"early_stopping\": true,\n",
            "  \"eos_token_id\": 1,\n",
            "  \"length_penalty\": 2.0,\n",
            "  \"max_length\": 128,\n",
            "  \"no_repeat_ngram_size\": 3,\n",
            "  \"num_beams\": 4,\n",
            "  \"pad_token_id\": 0\n",
            "}\n",
            "\n"
          ]
        }
      ],
      "source": [
        "from transformers import AutoModelForSeq2SeqLM, GenerationConfig\n",
        "\n",
        "model = AutoModelForSeq2SeqLM.from_pretrained(pretrained_model).to(device)\n",
        "my_config = model.generation_config\n",
        "print(\"generation_config\", model.generation_config)\n",
        "\n",
        "my_config.max_length = 128\n",
        "my_config.length_penalty = 2.0\n",
        "my_config.num_beams= 4\n",
        "my_config.no_repeat_ngram_size= 3\n",
        "my_config.early_stopping = True\n",
        "print(\"generation_config\", model.generation_config)\n"
      ]
    },
    {
      "cell_type": "markdown",
      "metadata": {
        "id": "u98CLZiTkgzv"
      },
      "source": [
        "### **Fine-Tuning Warm-Started Encoder-Decoder Models**"
      ]
    },
    {
      "cell_type": "markdown",
      "metadata": {
        "id": "-gYzA-w96wCt"
      },
      "source": [
        "The `Seq2SeqTrainer` that can be found under [examples/seq2seq/seq2seq_trainer.py](https://github.com/huggingface/transformers/blob/master/examples/seq2seq/seq2seq_trainer.py) will be used to fine-tune a warm-started encoder-decoder model.\n",
        "\n",
        "Let's download the `Seq2SeqTrainer` code and import the module along with `TrainingArguments`."
      ]
    },
    {
      "cell_type": "code",
      "execution_count": 26,
      "metadata": {
        "id": "pyiwaF0noA5c"
      },
      "outputs": [
        {
          "name": "stderr",
          "output_type": "stream",
          "text": [
            "2024-06-10 15:34:24.260710: I tensorflow/core/util/port.cc:113] oneDNN custom operations are on. You may see slightly different numerical results due to floating-point round-off errors from different computation orders. To turn them off, set the environment variable `TF_ENABLE_ONEDNN_OPTS=0`.\n",
            "2024-06-10 15:34:24.287332: I tensorflow/core/platform/cpu_feature_guard.cc:210] This TensorFlow binary is optimized to use available CPU instructions in performance-critical operations.\n",
            "To enable the following instructions: AVX2 AVX_VNNI FMA, in other operations, rebuild TensorFlow with the appropriate compiler flags.\n",
            "2024-06-10 15:34:24.831075: W tensorflow/compiler/tf2tensorrt/utils/py_utils.cc:38] TF-TRT Warning: Could not find TensorRT\n"
          ]
        }
      ],
      "source": [
        "from transformers import Seq2SeqTrainer\n",
        "from transformers import Seq2SeqTrainingArguments\n",
        "from dataclasses import dataclass, field\n",
        "from typing import Optional"
      ]
    },
    {
      "cell_type": "markdown",
      "metadata": {
        "id": "5nmQRT3XuHHz"
      },
      "source": [
        "We need to add some additional parameters to make `TrainingArguments` compatible with the `Seq2SeqTrainer`. Let's just copy the `dataclass` arguments as defined in [this file](https://github.com/patrickvonplaten/transformers/blob/make_seq2seq_trainer_self_contained/examples/seq2seq/finetune_trainer.py)."
      ]
    },
    {
      "cell_type": "markdown",
      "metadata": {
        "id": "dPUAgo7pxH24"
      },
      "source": [
        "Also, we need to define a function to correctly compute the ROUGE score during validation. ROUGE is a much better metric to track during training than only language modeling loss."
      ]
    },
    {
      "cell_type": "code",
      "execution_count": 27,
      "metadata": {},
      "outputs": [],
      "source": [
        "import numpy as np\n",
        "import evaluate\n",
        "\n",
        "rouge_score = evaluate.load(\"rouge\")\n",
        "\n",
        "def compute_metrics(eval_pred):\n",
        "    predictions, labels = eval_pred\n",
        "    # Decode generated summaries into text\n",
        "    decoded_preds = tokenizer.batch_decode(predictions, skip_special_tokens=True)\n",
        "    # Replace -100 in the labels as we can't decode them\n",
        "    labels = np.where(labels != -100, labels, tokenizer.pad_token_id)\n",
        "    # Decode reference summaries into text\n",
        "    decoded_labels = tokenizer.batch_decode(labels, skip_special_tokens=True)\n",
        "    # ROUGE expects a newline after each sentence\n",
        "    decoded_preds = [\"\\n\".join(sent_tokenize(pred.strip())) for pred in decoded_preds]\n",
        "    decoded_labels = [\"\\n\".join(sent_tokenize(label.strip())) for label in decoded_labels]\n",
        "    # Compute ROUGE scores\n",
        "    result = rouge_score.compute(\n",
        "        predictions=decoded_preds, references=decoded_labels, use_stemmer=True\n",
        "    )\n",
        "    # Extract the median scores\n",
        "    result = {key: value * 100 for key, value in result.items()}\n",
        "    return {k: round(v, 4) for k, v in result.items()}"
      ]
    },
    {
      "cell_type": "code",
      "execution_count": 28,
      "metadata": {},
      "outputs": [],
      "source": [
        "from transformers import DataCollatorForSeq2Seq\n",
        "\n",
        "data_collator = DataCollatorForSeq2Seq(tokenizer, model=model, return_tensors='pt')"
      ]
    },
    {
      "cell_type": "code",
      "execution_count": 29,
      "metadata": {},
      "outputs": [
        {
          "name": "stderr",
          "output_type": "stream",
          "text": [
            "/home/mrzaizai2k/code_Bao/ViT5/venv/lib/python3.10/site-packages/transformers/data/data_collator.py:646: UserWarning: Creating a tensor from a list of numpy.ndarrays is extremely slow. Please consider converting the list to a single numpy.ndarray with numpy.array() before converting to a tensor. (Triggered internally at ../torch/csrc/utils/tensor_new.cpp:274.)\n",
            "  batch[\"labels\"] = torch.tensor(batch[\"labels\"], dtype=torch.int64)\n"
          ]
        },
        {
          "data": {
            "text/plain": [
              "{'input_ids': tensor([[ 447, 1253,  290,  ...,    0,    0,    0],\n",
              "        [ 320, 1833,  313,  ...,  268,  290,    1]]), 'attention_mask': tensor([[1, 1, 1,  ..., 0, 0, 0],\n",
              "        [1, 1, 1,  ..., 1, 1, 1]]), 'labels': tensor([[  352,  1266,  1672,   355,  2353,   290,  1735,   259,  1269,   259,\n",
              "           270,  4994,  1265,  2879,  5327,   290,   557, 10513,   259,   261,\n",
              "           259,  9978,   290,  1290,  8594,   331,  2201,   259, 13220,   259,\n",
              "         10282,   408,  1878,   290,   494,  6985,   273,   326,  1292,   318,\n",
              "           259,   263,  2160,   317,   708,   262,   259, 55337,   317,  5079,\n",
              "           677,   369,  3057,   290,   329, 18768,   259,   260,   259,     1,\n",
              "          -100,  -100,  -100,  -100,  -100,  -100,  -100],\n",
              "        [  320,  1833,   408,   924,   317, 11825,   819,  1534,   977,  5620,\n",
              "           290, 26565,   334,   355,  3921, 14134,   977,  1690,   259,  1369,\n",
              "          1516,  1302,   290,  2535,  1405,  2052,   885,   259,  9762,   290,\n",
              "           263,  1263,  7786,   259,   270,  2184,  2214,   270,   290,   316,\n",
              "         10513,   677,  4031,   718,  2160,   259, 10282,   259,  7447,   290,\n",
              "          6734,  2187,   282,   326,   908,   300,  1492,   366,  9303,   290,\n",
              "           807,  2160,  4396,   259,   260,   259,     1]]), 'decoder_input_ids': tensor([[    0,   352,  1266,  1672,   355,  2353,   290,  1735,   259,  1269,\n",
              "           259,   270,  4994,  1265,  2879,  5327,   290,   557, 10513,   259,\n",
              "           261,   259,  9978,   290,  1290,  8594,   331,  2201,   259, 13220,\n",
              "           259, 10282,   408,  1878,   290,   494,  6985,   273,   326,  1292,\n",
              "           318,   259,   263,  2160,   317,   708,   262,   259, 55337,   317,\n",
              "          5079,   677,   369,  3057,   290,   329, 18768,   259,   260,   259,\n",
              "             1,     0,     0,     0,     0,     0,     0],\n",
              "        [    0,   320,  1833,   408,   924,   317, 11825,   819,  1534,   977,\n",
              "          5620,   290, 26565,   334,   355,  3921, 14134,   977,  1690,   259,\n",
              "          1369,  1516,  1302,   290,  2535,  1405,  2052,   885,   259,  9762,\n",
              "           290,   263,  1263,  7786,   259,   270,  2184,  2214,   270,   290,\n",
              "           316, 10513,   677,  4031,   718,  2160,   259, 10282,   259,  7447,\n",
              "           290,  6734,  2187,   282,   326,   908,   300,  1492,   366,  9303,\n",
              "           290,   807,  2160,  4396,   259,   260,   259]])}"
            ]
          },
          "execution_count": 29,
          "metadata": {},
          "output_type": "execute_result"
        }
      ],
      "source": [
        "features = [train_data_batch[i] for i in range(2)]\n",
        "data_collator(features)"
      ]
    },
    {
      "cell_type": "markdown",
      "metadata": {
        "id": "1ik4hZb2yV-b"
      },
      "source": [
        "Cool! Finally, we start training."
      ]
    },
    {
      "cell_type": "code",
      "execution_count": 30,
      "metadata": {
        "colab": {
          "base_uri": "https://localhost:8080/",
          "height": 177
        },
        "id": "LAaTxUpdzshF",
        "outputId": "7e103b00-0ac7-41c0-84a4-884932474b22"
      },
      "outputs": [
        {
          "name": "stdout",
          "output_type": "stream",
          "text": [
            "logging_steps 312\n"
          ]
        },
        {
          "data": {
            "text/html": [
              "\n",
              "    <div>\n",
              "      \n",
              "      <progress value='3130' max='3130' style='width:300px; height:20px; vertical-align: middle;'></progress>\n",
              "      [3130/3130 5:01:56, Epoch 10/10]\n",
              "    </div>\n",
              "    <table border=\"1\" class=\"dataframe\">\n",
              "  <thead>\n",
              " <tr style=\"text-align: left;\">\n",
              "      <th>Epoch</th>\n",
              "      <th>Training Loss</th>\n",
              "      <th>Validation Loss</th>\n",
              "      <th>Rouge1</th>\n",
              "      <th>Rouge2</th>\n",
              "      <th>Rougel</th>\n",
              "      <th>Rougelsum</th>\n",
              "    </tr>\n",
              "  </thead>\n",
              "  <tbody>\n",
              "    <tr>\n",
              "      <td>1</td>\n",
              "      <td>1.575700</td>\n",
              "      <td>1.422527</td>\n",
              "      <td>57.382300</td>\n",
              "      <td>23.843700</td>\n",
              "      <td>35.628800</td>\n",
              "      <td>37.107900</td>\n",
              "    </tr>\n",
              "    <tr>\n",
              "      <td>2</td>\n",
              "      <td>1.545200</td>\n",
              "      <td>1.421908</td>\n",
              "      <td>56.809000</td>\n",
              "      <td>23.465700</td>\n",
              "      <td>35.097700</td>\n",
              "      <td>36.760600</td>\n",
              "    </tr>\n",
              "    <tr>\n",
              "      <td>3</td>\n",
              "      <td>1.507400</td>\n",
              "      <td>1.412181</td>\n",
              "      <td>55.909500</td>\n",
              "      <td>23.012800</td>\n",
              "      <td>35.027400</td>\n",
              "      <td>36.444700</td>\n",
              "    </tr>\n",
              "    <tr>\n",
              "      <td>4</td>\n",
              "      <td>1.470100</td>\n",
              "      <td>1.425617</td>\n",
              "      <td>56.621000</td>\n",
              "      <td>23.187600</td>\n",
              "      <td>35.132300</td>\n",
              "      <td>36.551800</td>\n",
              "    </tr>\n",
              "    <tr>\n",
              "      <td>5</td>\n",
              "      <td>1.431000</td>\n",
              "      <td>1.438057</td>\n",
              "      <td>57.206700</td>\n",
              "      <td>23.608700</td>\n",
              "      <td>35.123900</td>\n",
              "      <td>36.742100</td>\n",
              "    </tr>\n",
              "    <tr>\n",
              "      <td>6</td>\n",
              "      <td>1.392900</td>\n",
              "      <td>1.433783</td>\n",
              "      <td>57.124800</td>\n",
              "      <td>23.944600</td>\n",
              "      <td>35.366600</td>\n",
              "      <td>36.997400</td>\n",
              "    </tr>\n",
              "    <tr>\n",
              "      <td>7</td>\n",
              "      <td>1.355800</td>\n",
              "      <td>1.472713</td>\n",
              "      <td>57.048200</td>\n",
              "      <td>23.100100</td>\n",
              "      <td>34.818700</td>\n",
              "      <td>36.181700</td>\n",
              "    </tr>\n",
              "    <tr>\n",
              "      <td>8</td>\n",
              "      <td>1.319700</td>\n",
              "      <td>1.492798</td>\n",
              "      <td>56.040900</td>\n",
              "      <td>23.170200</td>\n",
              "      <td>35.441400</td>\n",
              "      <td>36.858000</td>\n",
              "    </tr>\n",
              "    <tr>\n",
              "      <td>9</td>\n",
              "      <td>1.286100</td>\n",
              "      <td>1.491692</td>\n",
              "      <td>57.141600</td>\n",
              "      <td>23.755500</td>\n",
              "      <td>35.574700</td>\n",
              "      <td>36.941800</td>\n",
              "    </tr>\n",
              "    <tr>\n",
              "      <td>10</td>\n",
              "      <td>1.236700</td>\n",
              "      <td>1.481348</td>\n",
              "      <td>57.261800</td>\n",
              "      <td>23.556200</td>\n",
              "      <td>35.471700</td>\n",
              "      <td>37.125900</td>\n",
              "    </tr>\n",
              "  </tbody>\n",
              "</table><p>"
            ],
            "text/plain": [
              "<IPython.core.display.HTML object>"
            ]
          },
          "metadata": {},
          "output_type": "display_data"
        },
        {
          "data": {
            "text/plain": [
              "TrainOutput(global_step=3130, training_loss=1.4115332551657582, metrics={'train_runtime': 18121.2358, 'train_samples_per_second': 2.759, 'train_steps_per_second': 0.173, 'total_flos': 2.6437484544e+16, 'train_loss': 1.4115332551657582, 'epoch': 10.0})"
            ]
          },
          "execution_count": 30,
          "metadata": {},
          "output_type": "execute_result"
        }
      ],
      "source": [
        "# set training arguments - these params are not really tuned, feel free to change\n",
        "logging_steps = min(2000,len(train_data_batch) // batch_size)\n",
        "print(\"logging_steps\", logging_steps)\n",
        "\n",
        "training_args = Seq2SeqTrainingArguments(\n",
        "    output_dir= OUTPUT_DIR,\n",
        "    per_device_train_batch_size=batch_size,\n",
        "    per_device_eval_batch_size=batch_size,\n",
        "    predict_with_generate=True,\n",
        "    eval_strategy=\"epoch\",\n",
        "    learning_rate=1e-3,\n",
        "    # do_train=True,\n",
        "    # do_eval=True,\n",
        "    logging_steps=logging_steps,  # set to 2000 for full training\n",
        "    save_steps=500,  # set to 500 for full training\n",
        "    eval_steps=750,  # set to 7500 for full training\n",
        "    warmup_steps=3000,  # set to 3000 for full training\n",
        "    num_train_epochs=10, #uncomment for full training\n",
        "    overwrite_output_dir=True,\n",
        "    optim='adafactor',\n",
        "    save_total_limit=3,\n",
        "    # load_best_model_at_end=True,\n",
        "    push_to_hub=True,\n",
        ")\n",
        "\n",
        "trainer = Seq2SeqTrainer(\n",
        "    model,\n",
        "    args=training_args,\n",
        "    train_dataset=train_data_batch,\n",
        "    eval_dataset=val_data_batch,\n",
        "    data_collator=data_collator,\n",
        "    tokenizer=tokenizer,\n",
        "    compute_metrics=compute_metrics,\n",
        ")\n",
        "\n",
        "trainer.train()"
      ]
    },
    {
      "cell_type": "code",
      "execution_count": 31,
      "metadata": {},
      "outputs": [
        {
          "name": "stderr",
          "output_type": "stream",
          "text": [
            "model.safetensors:   0%|          | 0.00/1.20G [00:00<?, ?B/s]\n",
            "events.out.tfevents.1718008467.DESKTOP-H2CRQMR.907286.0: 100%|██████████| 12.4k/12.4k [00:01<00:00, 10.3kB/s]\n",
            "model.safetensors: 100%|██████████| 1.20G/1.20G [01:04<00:00, 18.6MB/s]\n",
            "Upload 2 LFS files: 100%|██████████| 2/2 [01:05<00:00, 32.51s/it]\n"
          ]
        }
      ],
      "source": [
        "trainer.save_model(OUTPUT_DIR)"
      ]
    },
    {
      "cell_type": "code",
      "execution_count": 32,
      "metadata": {
        "id": "7854KKs6EY4x"
      },
      "outputs": [],
      "source": [
        "# !gsutil -m cp -r '/content/training/*' 'gs://kaggle-vbdi-test/training_Data'"
      ]
    },
    {
      "cell_type": "markdown",
      "metadata": {
        "id": "ZwQIEhKOrJpl"
      },
      "source": [
        "### **Evaluation**\n",
        "\n",
        "Awesome, we finished training our dummy model. Let's now evaluated the model on the test data. We make use of the dataset's handy `.map()` function to generate a summary of each sample of the test data."
      ]
    },
    {
      "cell_type": "code",
      "execution_count": 38,
      "metadata": {
        "colab": {
          "base_uri": "https://localhost:8080/",
          "height": 66,
          "referenced_widgets": [
            "0ef7f4e43319429d9277d55c83cb084d",
            "ab543b6ef5b34ed4acb85fd25304ed75",
            "825d4b325e9b45859e808cd6b14fdd42",
            "dd0bdf658c6d4c0cb0a091129ecbebb0",
            "f7c296a0b8a84ee3be45c92edb6aad21",
            "e21d97b40ffa43668b9962c5d771debb",
            "a4898ec38618401396928eee2c4f9926",
            "3598a3c015a64c20be134cf4d2e7fbbe"
          ]
        },
        "id": "oOoSrwWarJAC",
        "outputId": "67b60b74-c47c-4718-82a7-072f85a32c4b"
      },
      "outputs": [
        {
          "name": "stdout",
          "output_type": "stream",
          "text": [
            "generation_config GenerationConfig {\n",
            "  \"decoder_start_token_id\": 0,\n",
            "  \"early_stopping\": true,\n",
            "  \"eos_token_id\": 1,\n",
            "  \"length_penalty\": 2.0,\n",
            "  \"max_length\": 128,\n",
            "  \"no_repeat_ngram_size\": 3,\n",
            "  \"num_beams\": 4,\n",
            "  \"pad_token_id\": 0\n",
            "}\n",
            "\n"
          ]
        },
        {
          "name": "stderr",
          "output_type": "stream",
          "text": [
            "Map: 100%|██████████| 100/100 [00:53<00:00,  1.87 examples/s]\n"
          ]
        }
      ],
      "source": [
        "tokenizer = AutoTokenizer.from_pretrained(pretrained_model, use_fast=False)\n",
        "\n",
        "# model = EncoderDecoderModel.from_pretrained(OUTPUT_DIR + \"/checkpoint-4000\")\n",
        "model = AutoModelForSeq2SeqLM.from_pretrained(OUTPUT_DIR, torch_dtype=torch.bfloat16,).to(device)\n",
        "print(\"generation_config\", model.generation_config)\n",
        "\n",
        "\n",
        "# test_data = datasets.load_dataset(\"xsum\", split=\"test\")\n",
        "\n",
        "batch_size = 16  # change to 64 for full evaluation\n",
        "\n",
        "# map data correctly\n",
        "def generate_summary(batch):\n",
        "    # Tokenizer will automatically set [BOS] <text> [EOS]\n",
        "    inputs = tokenizer(batch[\"original\"], padding=\"max_length\", truncation=True, max_length=512, return_tensors=\"pt\")\n",
        "    input_ids = inputs.input_ids.to(device)\n",
        "    attention_mask = inputs.attention_mask.to(device)\n",
        "\n",
        "    outputs = model.generate(input_ids, attention_mask=attention_mask,\n",
        "                            #  max_length=256,\n",
        "                        # num_beams=4,\n",
        "                        # no_repeat_ngram_size=3,\n",
        "                        # early_stopping=True,\n",
        "                        )\n",
        "\n",
        "    # all special tokens including will be removed\n",
        "    output_str = tokenizer.batch_decode(outputs, skip_special_tokens=True)\n",
        "\n",
        "    batch[\"pred\"] = output_str\n",
        "\n",
        "    return batch\n",
        "\n",
        "results = test_data.map(generate_summary, batched=True, batch_size=batch_size, remove_columns=[\"original\"])\n",
        "\n",
        "pred_str = results[\"pred\"]\n",
        "label_str = results[\"summary\"]"
      ]
    },
    {
      "cell_type": "code",
      "execution_count": 39,
      "metadata": {
        "id": "NHl8NMjEiTb6"
      },
      "outputs": [
        {
          "data": {
            "text/plain": [
              "{'rouge1': 58.415897565315625,\n",
              " 'rouge2': 24.991767036179702,\n",
              " 'rougeL': 36.06861271388169,\n",
              " 'rougeLsum': 36.07599070665035}"
            ]
          },
          "execution_count": 39,
          "metadata": {},
          "output_type": "execute_result"
        }
      ],
      "source": [
        "rouge_output = rouge_score.compute(predictions=pred_str, references=label_str, use_stemmer=True)\n",
        "rouge_output = {key: value * 100 for key, value in rouge_output.items()}\n",
        "rouge_output"
      ]
    },
    {
      "cell_type": "code",
      "execution_count": 40,
      "metadata": {
        "colab": {
          "base_uri": "https://localhost:8080/"
        },
        "id": "Y8R5CclwUGuC",
        "outputId": "9b53d98d-8d04-49b5-c55a-d47530564398"
      },
      "outputs": [
        {
          "name": "stdout",
          "output_type": "stream",
          "text": [
            "\n",
            "Prediction:  Các máy_bay chiến_đấu Nga và Syria đã tiến_hành các cuộc không_kích nhằm vào nơi ẩn_náu của các tay súng khủng_bố ở miền Nam và Đông_Idlib bằng tên_lửa hạng nặng.\n",
            "Truth:  Các đơn_vị không_quân Syria và Nga đã tiến_hành tấn_công mạnh_mẽ nhằm vào cứ_điểm của các phiến quân ở Bắc_Hama và Nam_Idlib để đối_phó với các đòn đánh của nhóm Tahrir al - Sham al - Hay ' at ( hay Al - Nusra ) tại khu_vực phi quân_sự . \n",
            "Content:  Tờ al - Watan hôm 14/3 cho_hay , các máy_bay chiến_đấu Nga và Syria đã tiến_hành các cuộc không_kích nhằm vào nơi ẩn_náu của các tay súng khủng_bố ở al - Tamane ' ah , al - Nayrab , Saraqib , Kafr_Amim và Ma ' arat Hormat ở miền Nam và Đông_Idlib cũng như cứ_điểm của chúng ở Bắc và Tây_Bắc_Hama Các nguồn_tin thực_địa mô_tả vụ tấn_công hôm 13/3 là cuộc không_kích có mức_độ huỷ_diệt lớn nhất của các đơn_vị không_quân Nga và Syria kể từ tháng 9/2018 , khiến số_lượng lớn khủng_bố thiệt_mạng và bị_thương . Cùng với các cuộc không_kích , lực_lượng quân_đội Syria đã ngăn_chặn các cuộc tấn_công của những kẻ khủng_bố từ Kafr_Naboudeh , al - Sakhar và Murak nhằm vào các cứ_điểm quân_sự . Họ cũng tấn_công mục_tiêu di_chuyển của các chiến_binh từ các thị_trấn Ma ' arat , Hormat al - Khowin , al - Zarzour và al - Tamane ' ah về phía các cứ_điểm quân_sự ở Đông_Nam_Idlib bằng các cuộc tấn_công bằng tên_lửa hạng nặng , gây thiệt_hại nặng_nề cho khủng_bố . Các đơn_vị quân_đội Syria cùng lúc đáp trả các cuộc tấn_công của những kẻ khủng_bố vào các khu_vực an_toàn ở Aleppo và Lattakia . Bộ Quốc_phòng Nga cho_biết trong một tuyên_bố rằng Lực_lượng hàng_không_vũ_trụ Nga đã phá_huỷ một kho vũ_khí thuộc nhóm khủng_bố Tahrir al - Sham al - Hay ' at ở tỉnh Idlib của Syria . “ Theo thông_tin được xác_nhận qua một_số nguồn_tin , các chiến_binh trước đó đã chuyển một số_lượng lớn máy_bay_không_người_lái chiến_đấu đến các cứ_điểm , nơi chúng dự_định thực_hiện cuộc tấn_công vào căn_cứ không_quân Hmeimim của Nga ” , thông_cáo của Bộ viết . Một cuộc không_kích chính_xác khác đã được thực_hiện vào ngày 13/3 với sự phối_hợp của Thổ_Nhĩ_Kỳ . Trong một diễn_biến có liên_quan vào ngày 13/3 , quân_đội Syria đã phá_huỷ một trụ sở_chỉ_huy của Tahrir al - Sham ở al - Habit và xung_quanh thị_trấn Babilon . Vụ tấn_công diễn ra khi lực_lượng này đang tiến_hành một cuộc họp giữa các chỉ_huy của tổ_chức , khiến tất_cả những phần_tử có_mặt tại địa_điểm này thiệt_mạng . Một nguồn_tin quân_sự cũng xác_nhận rằng quân_đội Syria đã phá_huỷ một trung_tâm chỉ_huy của Tahrir al - Sham cùng với một_số phương_tiện quân_sự ở thị_trấn Harash_Abedin ở Đông_Nam_Idlib , gây thương_vong nặng_nề cho khủng_bố . Xem thêm : Bất_ngờ câu nói của tay súng trước khi xả đạn điên_cuồng vào nhà_thờ New_Zealand  Ảnh minh_hoạ . \n",
            "\n",
            "Prediction:  Dự_án Vinhomes_Grand_Park được phát_triển theo mô_hình đại đô_thị đẳng_cấp quốc_tế, chỉ 22,53 % và dành phần_lớn diện_tích cho không_gian cây_xanh, mặt_nước.\n",
            "Truth:  Công_ty_Cổ_phần Vinhomes vừa chính_thức ra_mắt dự_án Vinhomes_Grand_Park tại phường Long_Bình và Long_Thạnh_Mỹ ( Quận 9 , TP. HCM ) . \n",
            "Content:  Đây là dự_án được các nhà_đầu_tư cũng như các công_ty phân_phối và môi_giới bất_động_sản chờ đón trong thời_gian qua trong bối_cảnh nguồn cung bất_động_sản thành_phố giảm_sút mạnh . Được phát_triển theo mô_hình đại đô_thị đẳng_cấp quốc_tế , “ Thành_phố Thông_minh - Công_viên ” Vinhomes_Grand_Park bao_gồm đầy_đủ cả 3 dòng sản_phẩm : Sapphire , Ruby , Diamond – mang đến lựa_chọn đa_dạng cho khách_hàng . Bên cạnh các khu căn_hộ và biệt_thự , Vinhomes_Grand_Park duy_trì mật_độ xây_dựng thấp , chỉ 22,53 % và dành phần_lớn diện_tích cho không_gian cây_xanh , mặt_nước và tiện_ích công_cộng . Theo đó , dự_án này có khu phức_hợp công_viên quy_mô hàng_đầu Đông_Nam_Á với diện_tích lên tới 36ha . Bao_gồm 15 công_viên với các chủ_đề khác nhau như : công_viên ánh_sáng lấy cảm_hứng từ Garden_By_The_Bay ( Singapore ) ; công_viên Golf mini địa_hình theo chủ_đề lần đầu_tiên có_mặt tại Việt_Nam , công_viên gym ngoài_trời với hơn 800 máy tập dành cho những người năng_động , yêu thể_thao ; công_viên BBQ với gần 100 điểm nướng – cho các hoạt_động vui_chơi , giải_trí , gắn_kết ; công_viên dưỡng_sinh dành cho người lớn_tuổi , đến công_viên sân_chơi nước dành cho trẻ nhỏ hay công_viên văn_hoá nghệ_thuật , công_viên hạnh_phúc .... Bên cạnh đó , Vinhomes_Grand_Park cung_cấp tới cư_dân hệ_thống tiện_ích rộng khắp phân_bổ trong khu_đô_thị bao_gồm : 150 sân thể_thao như bóng_đá_mini , tennis , cầu_lông , bóng_rổ , bóng_chuyền hơi … ; 11 hồ bơi ngoài_trời cung_cấp hàng chục ngàn m2 mặt_nước ; hơn 60 sân_chơi trẻ_em cùng hàng_loạt sân_chơi vận_động liên_hoàn phân_bổ khắp khu_đô_thị . Vinhomes Grand_Park cũng sở_hữu hạ_tầng tiện_ích dịch_vụ gồm : hệ_thống giáo_dục toàn_diện từ mầm_non đến liên_cấp từ Vinschool và các trường công_lập , dân_lập , TTTM_Vincom , khu shop , shophouse và toà nhà văn_phòng 45 tầng … “ Thành_phố Thông_minh - Công_viên ” Vinhomes_Grand_Park có tổng diện_tích 271ha nằm ở vị_trí tại cửa_ngõ phía Đông của TP. HCM và trong tương_lai dự_án này sẽ trở_thành trung_tâm của mạng_lưới đô_thị sáng_tạo theo quy_hoạch phát_triển của thành_phố . Từ đây , cư_dân có_thể kết_nối dễ_dàng với tuyến metro số 1 Bến_Thành – Suối_Tiên , Bến_xe Miền_Đông cùng các tuyến đường huyết_mạch tới các quận lân_cận , đồng_thời di_chuyển nhanh_chóng đến sân_bay Tân_Sơn_Nhất và sân_bay Long_Thành . Cùng với đó , Vinhomes_Grand_Park sẽ được tổ_chức vận_hành ứng_dụng theo mô_hình đô_thị thông_minh đang rất thành_công trên thế_giới như Singapore , Songdo của Hàn_Quốc , Fujisawa của Nhật_Bản . Hệ_sinh_thái thông_minh dựa trên 4 trục cốt_lõi , gồm Smart_Management ( vận_hành thông_minh ) , Smart_Security ( an_ninh thông_minh ) , Smart_Community ( cộng_đồng thông_minh ) , Smart_Home ( căn_hộ thông_minh – sản_phẩm thương_mại cung_cấp theo nhu_cầu ) , trở_thành đại đô_thị tiên_phong ứng_dụng công_nghệ trí_tuệ_nhân_tạo ( AI ) , Internet vạn_vật ( IoT ) vào vận_hành quản_lý đầu_tiên tại TP. HCM , mang lại phong_cách sống thời_thượng , an_ninh , an_toàn cao cho cư_dân . The_Rainbow - phân khu đầu_tiên của dự_án ra_mắt vào tháng 7-2019 , góp_phần kiến_tạo thành_phố xanh , năng_động , hiện_đại , đẳng_cấp tại TP. HCM .  Vinhomes Grand_Park – Thành_phố Thông_minh – Công_viên chính_thức ra_mắt . Hình_ảnh mang tính minh_hoạ . Sự ra_đời của Vinhomes_Grand_Park với nền_tảng đô_thị thông_minh hứa_hẹn đưa Quận 9 trở_thành trung_tâm mới của TP. HCM \n",
            "\n",
            "Prediction:  Tại lễ khai_mạc Đại_hội thể_thao toàn_quốc lần thứ 8 sẽ tổ_chức 1 điểm bắn pháo_hoa tầm thấp tại Khu Liên_hợp thể thao Quốc_gia Mỹ_Đình, quận Nam_Từ_Liêm.\n",
            "Truth:  Ông Nguyễn_Đức_Chung , Chủ_tịch UBND TP Hà_Nội , vừa ký kế_hoạch tổ_chức bắn pháo_hoa tại lễ khai_mạc Đại_hội thể_thao toàn_quốc lần thứ 8 tại sân_vận_động Mỹ_Đình vào Chủ_nhật ngày 25/11 . \n",
            "Content:  Theo kế_hoạch của UBND thành_phố , tại lễ khai_mạc Đại_hội thể_thao toàn_quốc lần thứ 8 sẽ tổ_chức 1 điểm bắn pháo_hoa tầm thấp tại Khu Liên_hợp thể_thao Quốc_gia Mỹ_Đình ( phường Mỹ_Đình , quận Nam_Từ_Liêm ) với tổng_số 60 giàn , thời_lượng 5 phút . Dự_kiến , chương_trình bắn pháo_hoa sẽ chia làm 2 lần : Lần 1 thực_hiện sau bài phát_biểu khai_mạc Đại_hội , kéo_dài 2 phút ( từ 21h1 3 - 21h1 5 ) ; lần 2 thực_hiện sau Lễ khai_mạc , kéo_dài 3 phút ( từ 21h4 2 - 21h4 5 ) . Đơn_vị chủ_trì nhiệm_vụ bắn pháo_hoa lần này sẽ là Bộ_Tư_lệnh Thủ_đô Hà_Nội , bên cạnh đó có sự phối_hợp , hỗ_trợ của các sở , ngành chức_năng của Thành_phố và quận Nam_Từ_Liêm . UBND thành_phố yêu_cầu đơn_vị xây_dựng và triển_khai thực_hiện kế_hoạch vận_chuyển và tổ_chức bắn pháo_hoa đảm_bảo an_toàn và đúng quy_trình . Hiệp_đồng với Công_an thành_phố chỉ_đạo chặt_chẽ công_tác tuần_tra , canh_gác , giữ vững an_ninh trật_tự , an_toàn xã_hội , phòng_chống cháy nổ , bảo_đảm an_toàn tuyệt_đối trước , trong và sau khi bắn pháo_hoa . Công_an thành_phố Hà_Nội xây_dựng phương_án , kế_hoạch bảo_đảm an_ninh trật_tự an_toàn xã_hội , an_toàn giao_thông ; đặc_biệt hướng_dẫn , phân_luồng đảm_bảo giao_thông trong khu_vực bắn pháo_hoa ; tạo điều_kiện cho các phương_tiện chở đạn pháo_hoa và các phương_tiện kỹ_thuật vào trận_địa ; Phối_hợp với Bộ_Tư_lệnh Thủ_đô Hà_Nội các đơn_vị liên_quan bố_trí lực_lượng bảo_đảm an_ninh , trật_tự trên địa_bàn và khu_vực tổ_chức bắn pháo_hoa ( trước , trong và sau khi bắn pháo_hoa ) ; Bảo_đảm lực_lượng , phương_tiện thực_hiện nhiệm_vụ phòng cháy , chữa_cháy tại khu_vực bắn pháo_hoa , sẵn_sàng xử_trí các tình_huống xảy ra . UBND quận Nam_Từ_Liêm bảo_đảm an_ninh , an_toàn cho các lực_lượng , mặt_bằng cho tập_kết lực_lượng , phương_tiện kỹ_thuật triển_khai xây_dựng trận_địa bắn pháo_hoa ; bảo_đảm vệ_sinh môi_trường , chiếu sáng tại khu_vực bắn ; Chỉ_đạo lực_lượng quân_sự tổ_chức bắn pháo_hoa theo đúng kế_hoạch , bảo_đảm an_toàn ; chỉ_đạo lực_lượng công_an phối_hợp các cơ_quan_chức_năng giữ vững an_ninh chính_trị , trật_tự an_toàn xã_hội , làm tốt công_tác phòng , chống cháy nổ cả trước , trong và sau khi kết_thúc bắn , không để xảy ra việc lợi_dụng tổ_chức bắn pháo_hoa để sử_dụng các loại pháo khác không đúng quy_định của Chính_phủ … Theo Vietnamnet , tổng chi_phí cho chương_trình bắn pháo_hoa là 486 triệu đồng được vận_động từ nguồn xã_hội_hoá . Tôn_Vỹ ( Tổng_hợp )  Ảnh minh_hoạ . \n",
            "\n",
            "Prediction:  Tổng_Công_ty Đầu_tư phát_triển nhà và đô_thị ( MCC ) vừa đề_xuất điều_chỉnh quy_mô và ranh_giới dự_án cải_tạo chỉnh_trang tuyến phố Ngô_Gia_Tự và xây_dựng hạ_tầng kỹ_thuật KĐTM Việt_Hưng ( 210,33 ha ).\n",
            "Truth:  Tổng_công_ty HUD vừa đề_xuất với Bộ Xây_dựng cho điều_chỉnh quy_mô và ranh_giới Dự_án cải_tạo chỉnh_trang tuyến phố Ngô_Gia_Tự và xây_dựng hạ_tầng kỹ_thuật Khu_đô_thị mới Việt_Hưng . Đồng_thời điều_chỉnh tiến_độ thực_hiện dự_án thêm 15 năm . \n",
            "Content:  Tổng_Công_ty Đầu_tư phát_triển nhà và đô_thị ( HUD ) vừa đề_xuất điều_chỉnh quy_mô và ranh_giới Dự_án cải_tạo chỉnh_trang tuyến phố Ngô_Gia_Tự và xây_dựng hạ_tầng kỹ_thuật Khu_đô_thị mới ( KĐTM ) Việt_Hưng ( quận Long_Biên , TP Hà_Nội ) từ 302,5 ha xuống 223,6 ha . Cụ_thể điều_chỉnh giảm quy_mô diện_tích và ranh_giới dự_án cải_tạo chỉnh_trang tuyến phố Ngô_Gia_Tự từ 93,6 ha xuống 13,1 ha ; không thay_đổi quy_mô diện_tích và ranh_giới dự_án KĐTM Việt_Hưng ( 210,5 ha ) . Song_song với đó , Tổng_Công_ty HUD cũng đề_xuất điều_chỉnh tiến_độ thực_hiện Dự_án thêm 15 năm ( từ giai_đoạn 2004-2009 sang giai_đoạn 2004-2024 ) , tăng quy_mô nguồn vốn đầu_tư từ 7.841 đồng lên 8.997 tỷ đồng . Ngoài_ra , trong đơn đề_nghị , Tổng_công_ty HUD cũng đề_xuất thay_đổi thông_tin về nhà_đầu_tư , từ Tổng_Công_ty Đầu_tư phát_triển nhà và đô_thị thành Tổng_Công_ty Đầu_tư phát_triển nhà và đô_thị - Công_ty TNHH . Lý_giải về những đề_xuất trên , Tổng_công_ty HUD cho_rằng do khó_khăn trong công_tác đền_bù giải_phóng mặt_bằng và việc điều_chỉnh quy_hoạch cục_bộ một_số lô đất theo quy_hoạch phân khu N10 đã được UBND TP. Hà_Nội phê_duyệt tại Quyết_định số 4099 / QĐ - UBND ngày 5/7/2017 ( viết tắt là Quy_hoạch phân khu N 10 ) , dẫn đến việc thay_đổi quy_mô đầu_tư của Dự_án . Trước những đề_xuất này , mới_đây Bộ Xây_dựng đã có công_văn gửi Sở Kế_hoạch và Đầu_tư TP. Hà_Nội hướng_dẫn trình_tự , thủ_tục điều_chỉnh Dự_án cải_tạo chỉnh_trang tuyến phố Ngô_Gia_Tự và xây_dựng hạ_tầng kỹ_thuật Khu_đô_thị mới Việt_Hưng . Trong đó , Bộ Xây_dựng_cơ_bản thống_nhất với nội_dung đề_nghị điều_chỉnh quy_mô và ranh_giới từ 302,5 ha xuống 223,6 ha của dự_án . Tuy_nhiên , Bộ cũng đề_nghị Sở Kế_hoạch và Đầu_tư TP. Hà_Nội xem_xét báo_cáo cấp có thẩm_quyền về đề_xuất của nhà_đầu_tư về việc điều_chỉnh dựa trên các nguyên_tắc : Phù_hợp với Quy_hoạch và Làm rõ những khó_khăn , tồn_tại trong quá_trình triển_khai thực_hiện Dự_án từ trước đến nay ; hoàn_thiện cơ_sở pháp_lý thực_hiện Dự_án đảm_bảo tuân_thủ các quy_định của pháp_luật hiện_hành về quy_hoạch , đầu_tư , xây_dựng , nhà ở , kinh_doanh bất_động_sản và các pháp_luật có liên_quan khác . Về đề_xuất điều_chỉnh tiến_độ thực_hiện Dự_án , Bộ Xây_dựng đề_nghị Sở Kế_hoạch và Đầu_tư căn_cứ tiến_độ giải_phóng mặt_bằng tại các vị_trí còn lại tại Dự_án và tình_hình thực_tế phát_triển kinh_tế - xã_hội tại địa_phương để thẩm_định đề_xuất của nhà_đầu_tư , xem_xét , báo_cáo cấp có thẩm_quyền quyết_định chấp_thuận điều_chỉnh tiến_độ thực_hiện Dự_án , đảm_bảo phù_hợp với tình_hình thực_tế , kế_hoạch tổ_chức thực_hiện và hiệu_quả đầu_tư . Về đề_xuất tăng tổng vốn đầu_tư của Dự_án lên 8.997,45 tỷ đồng , Bộ Xây_dựng đề_nghị Sở Kế_hoạch và Đầu_tư căn_cứ các quy_định hướng_dẫn chủ_đầu_tư có trách_nhiệm trình đề_xuất điều_chỉnh Dự_án để người quyết_định đầu_tư xem_xét , quyết_định . Ngoài_ra , khi thực_hiện việc điều_chỉnh quyết_định chủ_trương đầu_tư và điều_chỉnh Dự_án , Bộ Xây_dựng đề_nghị Sở Kế_hoạch và Đầu_tư báo_cáo UBND TP Hà_Nội . Để thống_nhất quản_lý_nhà_nước về phát_triển đô_thị và nhà ở trên địa_bàn TP Hà_Nội theo các quy_hoạch đã được phê_duyệt , đề_nghị sớm tổ_chức lập , phê_duyệt Chương_trình phát_triển đô_thị , Khu_vực phát_triển đô_thị theo quy_định của pháp_luật hiện_hành . Bộ Xây_dựng yêu_cầu : “ Đối_với những khu_vực trong phạm_vi Dự_án thuộc trách_nhiệm giải_phóng mặt_bằng của chủ_đầu_tư nhưng chưa hoàn_thành thì cần chỉ_đạo chủ_đầu_tư phối_hợp với các cơ_quan liên_quan tiếp_tục hoàn_thành công_tác giải_phóng mặt_bằng để thực_hiện Dự_án theo quy_hoạch đã được cấp thẩm_quyền phê_duyệt ; quy_định rõ trách_nhiệm của chủ_đầu_tư cấp 1 và các chủ_đầu_tư thứ cấp trong việc đầu_tư xây_dựng và quản_lý các hạng_mục công_trình hạ_tầng kỹ_thuật , hạ_tầng xã_hội và nhà ở tại Dự_án , đảm_bảo kết_nối đồng_bộ hạ_tầng kỹ_thuật và hạ_tầng xã_hội giữa các dự_án thành_phần với nhau trong phạm_vi Dự_án và giữa Dự_án với khu_vực xung_quanh ” . Hiếu Nguyễn  Chủ_đầu_tư Dự_án Khu_đô_thị Việt_Hưng xin lùi tiến_độ thêm 15 năm \n",
            "\n",
            "Prediction:  Hoạ_sĩ Hà_Hùng_Dũng công_khai quảng_bá các sản_phẩm tranh_tường, tranh treo trang_trí tại một khách_sạn 5 sao ở Sapa.\n",
            "Truth:  Vừa mang tranh lên Sa_Pa triển_lãm , hoạ_sĩ Hà_Hùng_Dũng đã bị sốc khi phát_hiện ra mấy chục bức_tranh của anh đã bị ' đạo bản_quyền ' , vẽ thành tranh_tường tại khách_sạn . \n",
            "Content:  Hoạ_sĩ Hà_Hùng_Dũng theo_đuổi niềm đam_mê khai_thác vẻ đẹp người phụ_nữ Tây_Bắc . Cũng vì tình_yêu với Sa_Pa , anh đã mang nhiều tác_phẩm mới ra Sa_Pa làm triển_lãm và phát_hiện ra hàng chục bức tranh_sơn_dầu , màu nước của anh đã bị một đơn_vị tranh_tường tại Hà_Nội có tên Tranh_tường Trần_Tuân chép lại thành tranh_tường và tranh treo trang_trí tại một khách_sạn 5 sao ở Sapa . Trên trang Facebook của đơn_vị có tên Tranh_tường Trần_Tuân ( Hà_Nội ) cũng công_khai quảng_bá các sản_phẩm tranh_tường , tranh chép từ các tác_phẩm của hoạ_sĩ Hà_Hùng_Dũng kèm theo số điện_thoại để khách_hàng tiện liên_hệ . Việc các tác_phẩm hội_hoạ bị các nhà_hàng , quán cà_phê tự_ý chép thành tranh tường trang_trí quán , nhà_hàng … thời_gian qua diễn_biến khá nhức_nhối . Đơn_cử gần nhất tranh_sơn_dầu thuộc series Thiếu_nữ và hoa sen của hoạ_sĩ Phan_Linh_Bảo_Hạnh ( hiện sống tại Bình_Dương ) đã bị chép thành tranh tường trang_trí tại một nhà_hàng cà_phê ở TP. HCM . Tranh_lụa của hoạ_sĩ Bùi_Tiến_Tuấn phát_hiện bị chép lên một quán cà_phê ở Nha_Trang , tranh_sơn_dầu thuộc series Những kẻ điên của hoạ_sĩ Bùi_Thanh_Tâm bị chép lên tranh_tường tại một quán cà_phê ở Hải_Phòng … Hoạ_sĩ Bùi_Tiến_Tuấn cho_biết sau khi phát_hiện ra việc đạo tranh lên tường , anh có tìm được mạng xã_hội của người \" đạo \" bức_tranh đó , được biết người này từng tốt_nghiệp Đại_học Mỹ_thuật Hà_Nội và nhắn_tin chất_vấn , nhưng có_lẽ cậu này đã \" bị quê \" mà lờ_tịt đi , không dám trả_lời . Hoạ_sĩ Bùi_Thanh_Tâm cho_biết sau khi phát_hiện ra tranh mình bị đạo thành tranh_tường , anh rất bực_mình và dự_định về Hải_Phòng gặp trực_tiếp yêu_cầu họ xoá gỡ bức tranh chép đó . \" Tôi nghĩ vì họ thiếu hiểu_biết về vấn_đề bản_quyền nên mới làm thế . Tôi sẽ giải_thích cho họ hiểu và yêu_cầu dỡ bỏ tranh chép tường \" , hoạ_sĩ Bùi_Thanh_Tâm nói . Hoạ_sĩ Tâm cũng nhận_định : \" Việc vi_phạm bản_quyền tranh trắng_trợn và biến_tướng như_vậy bởi một phần từ trước tới nay , họ đã quen với việc này nhưng không bị cơ_quan_chức_năng có thẩm_quyền xử_lý . Mặt_khác hệ_thống luật về mặt bản_quyền còn chưa rõ_ràng triệt_để . Các hoạ_sĩ thường cũng không làm đăng_ký bản_quyền cho sáng_tác của mình nên rất khó khởi_kiện bên vi_phạm . Phần_lớn là sau khi phát_hiện ra vi_phạm , các hoạ_sĩ đều phải tự mình giải_quyết theo kiểu gặp_gỡ bên vi_phạm , yêu_cầu họ dỡ bỏ , không được sử_dụng hình_ảnh của mình nữa \" . Nhiều hoạ_sĩ và những người yêu nghệ_thuật đều nhất_trí rằng việc đạo_tranh , xâm_phạm bản_quyền các tác_phẩm hội_hoạ ngày_càng nhiều và trắng_trợn , đã đến lúc các hoạ_sĩ cần mạnh_mẽ hơn_nữa trong việc bảo_vệ những đứa con tinh_thần của mình .  Tranh gốc của hoạ_sĩ Hà_Hùng_Dũng . Tranh của Hà_Hùng_Dũng ( trái ) và tranh_tường Trần_Tuân . Tranh của Phan_Linh_Bảo_Hạnh thành .. tranh_tường . Tranh của hoạ_sĩ Bùi_Tiến_Tuấn thành tranh chép treo tường ở một quán cà_phê . Tranh của Bùi_Thanh_Tâm cũng lên .. tường \n",
            "\n",
            "Prediction:  Bà Phan_Thị_Mỹ_Thanh, nguyên Phó Bí_thư Tỉnh_uỷ Đồng_Nai, Trưởng_đoàn Đại_biểu Quốc_hội tỉnh này, đã bố_trí công_việc phù_hợp.\n",
            "Truth:  Do vẫn mong_muốn được công_tác , bà Phan_Thị_Mỹ_Thanh được nhận nhiệm_vụ mới tại uỷ_ban Mặt_trận Tổ_quốc tỉnh Đồng_Nai . \n",
            "Content:  Ngày 3/12 , ông Phạm_Văn_Ru , Trưởng_ban Tổ_chức Tỉnh_uỷ Đồng_Nai cho biết , tỉnh này vừa điều_động bà Phan_Thị_Mỹ_Thanh ( nguyên Phó Bí_thư Tỉnh_uỷ Đồng_Nai , Trưởng_đoàn Đại_biểu Quốc_hội tỉnh Đồng_Nai ) về làm_việc tại uỷ_ban Mặt_trận Tổ_quốc tỉnh Đồng_Nai . Theo ông Ru , bà Thanh bắt_đầu nhận nhiệm_vụ từ đầu tháng 12 và Thường_trực Tỉnh_uỷ đã giao uỷ_ban Mặt_trận Tổ_quốc tỉnh xem_xét , bố_trí công_việc phù_hợp cho bà Thanh . Liên_quan đến những vi_phạm của bà Thanh trước đó , ông Ru thông_tin : “ Những vi_phạm của bà Thanh đã được Trung_ương xử_lý theo quy_định , cách hết chức_vụ trong Đảng . Hiện , bà Thanh vẫn là cán_bộ công_chức và có nguyện_vọng tiếp_tục công_tác nên Thường_trực đã xem_xét và bố_trí công_việc phù_hợp ” . Cụ_thể , vào tháng 5 vừa_qua , Trung_ương đã xem_xét , thi_hành kỷ_luật cách tất_cả các chức_vụ trong Đảng đối_với bà Thanh vì các sai_phạm của bà này được cho là rất nghiêm_trọng . Bà Thanh được xác_định trong thời_gian làm Giám_đốc sở Công_nghiệp tỉnh Đồng_Nai từ năm 2003 đến tháng 01/2009 ( nay là sở Công_Thương Đồng_Nai ) đã thiếu trách_nhiệm trong thực_thi nhiệm_vụ , công_vụ . Bà Thanh đã không chỉ_đạo xây_dựng cơ_sở_hạ_tầng của dự_án Khu_tập_thể Nhà_máy dệt Thống_Nhất trong khi đã thu tiền của các hộ dân . Trong khi đó , bà Thanh lại đồng_ý để kế_toán sở Công_nghiệp gửi số tiền còn lại của dự_án vào công_ty Gỗ_Tân_Mai . Đặc_biệt khi chuyển sang vị_trí công_tác mới , bà Thanh không bàn_giao dự_án cho người kế_nhiệm dẫn đến khiếu_kiện , … Sau đó với cương_vị Phó Chủ_tịch UBND tỉnh Đồng_Nai ( từ tháng 6/2011 đến tháng 9/2014) , bà Thanh ký nhiều văn_bản của UBND tỉnh nhưng không xem_xét nội_dung tham_mưu của sở , ngành chuyên_môn , vi_phạm pháp_luật , vi_phạm quy_chế làm_việc của UBND tỉnh về trình_tự , thủ_tục đầu_tư dự_án . Việc_làm trên còn vi_phạm nguyên_tắc tập_trung dân_chủ trong việc ký Quyết_định số 2230 / QĐ - UBND , ngày 21/7/2014 của UBND tỉnh chấp_thuận chủ_trương đầu_tư dự_án lấn sông Đồng_Nai không báo_cáo , xin ý_kiến các bộ , ngành Trung_ương theo kết_luận của ban Thường_vụ Tỉnh_uỷ . Bà này cũng ký một_số quyết_định của UBND tỉnh thể_hiện sự ưu_ái , tạo điều_kiện thuận_lợi cho doanh_nghiệp của gia_đình , …  Bà Phan_Thị_Mỹ_Thanh \n",
            "\n",
            "Prediction:  Hội_hè Carnaval_Hạ_Long 2018 đã tổ_chức lễ trao_đổi với Tuổi_Trẻ Online tại Hà_Nội. Đây là sân_khấu có độ lớn nhất thế_giới.\n",
            "Truth:  Sau 10 năm , lễ_hội đường_phố Carnaval_Hạ_Long đã được nâng tầm thành sự_kiện văn_hoá quốc_tế , khẳng_định một thương_hiệu du_lịch lễ_hội riêng có của tỉnh . \n",
            "Content:  Sự_kiện được ví_như một bữa tiệc nghệ_thuật hoành_tráng và rực_rỡ sắc_màu đã mở_màn đầy ấn_tượng cho Năm du_lịch quốc_gia 2018 Hạ_Long - Quảng_Ninh với chủ_đề : \" Hạ_Long - Di_sản - Kỳ_quan - Điểm đến thân_thiện \" . Điểm nhấn của Carnaval_Hạ_Long 2018 là sân_khấu có độ lớn kỷ_lục so với các năm trước đó , được tạo_dựng bởi công_nghệ hiện_đại nhất thế_giới . Trên sân_khấu , 9 vòng_tròn tượng_trưng cho 9 con rồng và phụng là hình_ảnh tiêu_biểu cho vịnh Hạ_Long ước_lệ , được gia_tăng hiệu_ứng sống_động bằng công_nghệ video 3D mapping . Toàn_bộ chương_trình được lập_trình bằng phần_mềm đồng_bộ từ âm_thanh , ánh_sáng đến hình_ảnh để đem đến hiệu_ứng sống_động và bắt_mắt nhất . Đêm hội Carnaval_Hạ_Long được chia làm ba phần : - Truyền_thuyết và tâm_linh - Độc_đáo và đa_sắc - Hội_nhập và lan_toả đã đưa khán_giả phiêu_lưu trong một thế_giới hội_hè vừa huyền_bí , hào_hùng , lại vừa sôi_động , trẻ_trung . Sự_kiện có sự tham_gia của hơn 2.000 diễn_viên múa , ca_sĩ chuyên_nghiệp , người_mẫu Việt_Nam và các đoàn nghệ_sĩ quốc_tế đến từ nhiều quốc_gia , vùng lãnh_thổ trên thế_giới như Brazil , Ukraine … bên cạnh nhiều ca_sĩ , nhạc_sĩ danh_tiếng như nhạc_sĩ Huy_Tuấn , ca_sĩ Mỹ_Linh , Tùng_Dương , NSND Quang_Thọ , ... Màn trình_diễn pháo_hoa của Carnaval_Hạ_Long năm nay do đội pháo_hoa Ruggieri đến từ nước Pháp trình_diễn cũng khiến nhiều khán_giả thích_thú theo_dõi . Sau đêm khai_mạc Năm du_lịch quốc_gia Hạ_Long - Quảng_Ninh 2018 , chuỗi 50 chương_trình văn_hoá , thể_thao và du_lịch sôi_nổi , hấp_dẫn trên khắp các địa_bàn của tỉnh sẽ liên_tục được tổ_chức , góp_phần tạo nên một Quảng_Ninh năng_động , hội_nhập và hiện_đại , sớm hoàn_thành mục_tiêu trở_thành trung_tâm du_lịch quốc_tế hàng_đầu Việt_Nam và khu_vực .  Lễ_hội Carnaval đầy màu_sắc sôi_động - Ảnh : BTC . So với các năm trước đó , sân_khấu Carnaval Hạ_Long 2018 có độ lớn kỷ_lục - Ảnh : PHẠM_PHONG . Những màn trình_diễn rực_rỡ sắc_màu của các nghệ_sĩ - Ảnh : BTC . Những vũ công_trình diễn những bộ trang_phục rực_rỡ sắc_màu - Ảnh : HẢI_PHONG . Pháo_hoa rực sáng khai_mạc Năm du_lịch quốc_gia 2018 - Ảnh : ĐỖ_QUANG \n",
            "\n",
            "Prediction:  Báo_cáo của Chính_phủ chỉ ra hàng_loạt tồn_tại cần giải_quyết tại các công_trình giao_thông đầu_tư theo hình_thức BOT và mức chi_phí bảo_toàn vốn trên phần vốn chủ_sở_hữu.\n",
            "Truth:  Để xử_lý triệt_để , dứt_điểm các bất_cập của trạm thu phí BOT , Nhà_nước cần bố_trí vốn để mua lại các dự_án , nhưng trong giai_đoạn hiện_nay rất khó cân_đối đủ vốn để thực_hiện . \n",
            "Content:  Đánh_giá trên được Chính_phủ đưa ra trong báo_cáo tổng_hợp kết_quả thực_hiện các nghị_quyết , kết_luận của Uỷ_ban Thường_vụ_Quốc_hội về chất_vấn và giám_sát chuyên_đề từ đầu nhiệm_kỳ đến hết năm 2018 mới_đây . Hiện_nay , Thủ_tướng đang giao Bộ Giao_thông vận_tải ( GTVT ) tiếp_tục rà_soát báo_cáo Chính_phủ xem_xét giải_quyết từng trạm BOT , bảo_đảm hài_hoà lợi_ích giữa Nhà_nước , nhà_đầu_tư và người sử_dụng . Báo_cáo của Chính_phủ chỉ ra hàng_loạt tồn_tại cần giải_quyết tại các công_trình giao_thông đầu_tư theo hình_thức BOT đã và đang triển_khai . Một_số nhà_đầu_tư BOT không đồng_ý giảm trừ lãi vay trong thời_gian xây_dựng chưa tính trong tổng mức đầu_tư dự_án BOT và mức chi_phí bảo_toàn vốn trên phần vốn chủ_sở_hữu , nên đến nay chưa thể đàm_phán điều_chỉnh hợp_đồng một_số dự_án BOT . Nếu Nhà_nước đơn_phương điều_chỉnh hợp_đồng BOT thì có_thể sẽ dẫn đến các tranh_chấp pháp_lý , sẽ tác_động tiêu_cực đến việc thu_hút các nhà_đầu_tư tham_gia thực_hiện dự_án PPP trong thời_gian tới . Chính_phủ đã chỉ_đạo các bộ làm_việc với Kiểm_toán Nhà_nước để tháo_gỡ vướng_mắc . Theo Bộ GTVT , đến nay một_số dự_án BOT sụt_giảm doanh_thu so với phương_án tài_chính ban_đầu do lưu_lượng xe qua trạm thấp hơn so với dự_báo , do xuất_hiện các tuyến đường song_hành , đường ngang qua khu_vực trạm thu phí dẫn đến xe tránh trạm . Bên cạnh đó , việc giảm phí , chưa tăng phí BOT theo đúng lộ_trình cam_kết trong hợp_đồng BOT theo nghị_quyết 35 của Chính_phủ cùng sự thay_đổi về số_lượng trạm thu phí và giảm hỗ_trợ từ ngân_sách nhà_nước so với phương_án ban_đầu đang làm_khó các nhà_đầu_tư BOT và ngân_hàng tài_trợ dự_án . Chính_phủ nhấn_mạnh để xử_lý triệt_để , dứt_điểm các bất_cập của các trạm thu phí , Nhà_nước cần bố_trí nguồn vốn để mua lại các dự_án . Nhưng hiện_nay rất khó_khăn để cân_đối đủ nguồn vốn mua lại các trạm BOT . Hơn_nữa , toàn_bộ các dự_án BOT do Bộ GTVT quản_lý đã được Tổng_cục Đường_bộ Việt_Nam , nhà_đầu_tư phối_hợp với địa_phương rà_soát đề_xuất phương_án miễn , giảm phí BOT , trong đó đã thực_hiện giảm phí BOT của 39 dự_án .  Nhiều trạm BOT không_thể tăng phí đúng lộ_trình theo cam_kết hợp_đồng đã ký - Ảnh : TT. Theo Bộ GTVT , nếu không tăng phí đúng lộ_trình , nhiều doanh_nghiệp BOT có nguy_cơ phá_sản - Ảnh : TT \n",
            "\n",
            "Prediction:  Ông Moon_Jae_In hứa_hẹn sẽ thăm Triều_Tiên vào mùa Thu năm nay, nhưng chứ không_chỉ riêng ông Kim_Jong_Un. Tuy_nhiên, cuộc gặp thượng_đỉnh giữa hai lãnh_đạo Hàn_Quốc đã được lên kịch_bản cẩn_thận từng tí.\n",
            "Truth:  Giới chuyên_gia nhận_định cuộc gặp thượng_đỉnh giữa Tổng_thống Hàn_Quốc Moon_Jae_In và lãnh_đạo Triều_Tiên_Kim_Jong_Un đã được lên kịch_bản cẩn_thận từng li từng tí . Nhưng vẫn có 2 việc diễn ra ngoài kế_hoạch . \n",
            "Content:  Ông Moon_Jae_In hứa_hẹn sẽ thăm Triều_Tiên vào mùa Thu năm nay , nhưng chú_ý sẽ thấy hôm_qua nhà_lãnh_đạo Hàn_Quốc đã đặt_chân lên đất Triều_Tiên . Ông cũng đã tạo ra \" lịch_sử \" , chứ không_chỉ riêng ông Kim_Jong_Un . Giới chuyên_gia cho_rằng cuộc gặp thượng_đỉnh ngày 27-4 giữa Tổng_thống Moon_Jae_In và lãnh_đạo Triều_Tiên_Kim_Jong_Un đã được lên kịch_bản cẩn_thận từng li từng tí , từ trong lời_ăn_tiếng_nói , cử_chỉ hình_thể đến tận những bước chân cuối_cùng khi hai lãnh_đạo chia_tay . Hai nước thậm_chí đã tập_dượt để chuẩn_bị cho cuộc gặp lịch_sử này , với các khâu như gặp_gỡ , bắt_tay và đi dạo quanh khu_vực phi quân_sự của hai nhà_lãnh_đạo . Tất_cả nhằm đảm_bảo mỗi khoảnh_khắc sẽ đẹp nhất trong ống_kính của báo_chí quốc_tế . Tuy_nhiên , có một_số chi_tiết diễn ra bất_ngờ hôm_qua cho thấy ông Kim_Jong_Un đã \" xa_rời \" kịch_bản . Chi_tiết gây chú_ý nhất_là sau khi bắt_tay với ông Moon_Jae_In và bước qua ranh_giới phân_định quân_sự ( MDL ) để đặt_chân lên đất Hàn_Quốc , ông Kim_Jong_Un bất_ngờ mời ông Moon bước trở_lại phần lãnh_thổ Triều_Tiên cùng ông . Theo tờ Business_Insider , chính Nhà_Xanh đã xác_nhận khoảnh_khắc trên \" không có trong kế_hoạch \" . Người_phát_ngôn phủ tổng_thống Hàn_Quốc cho_biết khi ông Moon hỏi ông Kim rằng \" Vậy khi nào thì tôi sẽ đến thăm Triều_Tiên đây ? \" , ông Kim liền đáp : \" Tại_sao ngài không bước qua phía Triều_Tiên ngay bây_giờ luôn nhỉ ? Lời mời bất_ngờ này dường_như đã không khiến ông Moon có chút lúng_túng vào thời_điểm đó . Nhà_lãnh_đạo Hàn_Quốc đã cười to và nói_chuyện với ông Kim , trước khi cả hai dừng lại để bắt_tay . Và hết_sức bất_ngờ , ông Kim đã nắm tay ông Moon bước qua đường phân_định quân_sự , đặt_chân lên phần lãnh_thổ Triều_Tiên . Cả hai tiếp_tục bắt_tay và trò_chuyện . Trong video được báo_chí đăng_tải , có_thể nghe rõ quan_chức hai miền đã cười_rộ lên và kêu \" Wow ! \" trong sự ngạc_nhiên . Một chi_tiết khác cho thấy ông Kim dường_như cũng xa_rời kịch_bản là khi ông nói đùa về món mì lạnh nổi_tiếng của Triều_Tiên . Ông nói rằng ông đã mang món này vào đây từ Bình_Nhưỡng \" xa_xôi \" . \" Tôi cho_rằng tôi sẽ không nói ' xa_xôi ' ngay bây_giờ \" - ông Kim tìm cách rút lời ngay sau đó . Với hai chi_tiết này , có_thể một_số người đánh_giá là bình_thường nhưng đối_với giới tình_báo Mỹ , đó là chi_tiết đắt_giá . Ông Kim là một nhân_vật đối_với thế_giới hiện còn nhiều bí_ẩn . Các quan_chức tình_báo Mỹ hôm 26-4 tiết_lộ với hãng tin Reuters rằng họ sẽ theo_dõi chặt_chẽ thượng_đỉnh liên Triều và phân_tích những gì ông Kim nói cũng như ngôn_ngữ hình_thể của ông . Điều này là để tình_báo Mỹ \" giải_mã \" nhiều hơn về ông Kim , nhằm giúp Tổng_thống Mỹ Donald_Trump nắm các thông_tin về đối_phương kiểu \" biết người biết ta , trăm trận trăm thắng \" trong cuộc gặp thượng_đỉnh Mỹ - Triều sắp tới . Tình_báo Mỹ đánh_giá ông Kim kiên_định và sáng_suốt . Tuy_nhiên , việc bất_ngờ mời ông Moon bước sáng phần biên_giới Triều_Tiên cho thấy có_thể ông là người có tính bột_phát . Nó có_thể gây trở_ngại cho chính_quyền ông Trump trong việc tìm ra chiến_lược hợp_lý trong đàm_phán sắp tới . Chính ông Trump cũng là người thường_xuyên đưa ra các quyết_định bột_phát . Nhà_Trắng đã nhiều lần phải tìm cách đính_chính tuyên_bố của nhà_lãnh_đạo Mỹ để hoá_giải những phản_ứng của các đối_tượng có liên_quan . Nếu sự tương_đồng trong tính_cách trên là đúng , thượng_đỉnh Mỹ - Triều sắp tới có_thể sẽ có nhiều \" đất \" để tận_dụng theo hướng có lợi , nhưng cũng có_thể gây ra thảm_hoạ nếu hai bên có các hành_động bất_ngờ khiến đối_phương không hài_lòng .  Khoảnh_khắc ông Kim_Jong_Un nắm tay ông Moon_Jae_In đi sang phần lãnh_thổ Triều_Tiên - Ảnh : REUTERS . Ông Kim_Jong_Un cùng vợ dự tiệc tối với vợ_chồng ông Moon_Jae_In ở Nhà Hoà_bình tối 27-4 - Ảnh : REUTERS \n",
            "\n",
            "Prediction:  Cặp đôi Trấn_Thành và Hari_Won vừa công_bố kế_hoạch sinh con của anh trong vài năm tới khi cảm_thấy bản_thân còn trẻ.\n",
            "Truth:  Cùng bà_xã Hari_Won tham_gia chương_trình thực_tế về phụ_nữ mang bầu , Trấn_Thành cảm_thấy anh vẫn còn ham chơi nên chưa đủ trưởng_thành để làm cha . \n",
            "Content:  Cặp đôi Trấn_Thành và Hari_Won kết_hôn vào cuối năm 2017 . Sau hơn 1 năm trở_thành vợ_chồng , dư_luận ngày_càng tò_mò về kế_hoạch sinh con của cặp đôi này . Nói về việc trọng_đại này , Trấn_Thành cho_biết vợ_chồng anh không muốn sinh con sớm vì cảm_thấy bản_thân còn trẻ , còn mê công_việc và ham chơi . “ Nói_thẳng ra là chúng_tôi còn thích_thú cuộc_sống của vợ_chồng son , chưa sẵn_sàng để đón_nhận thêm trách_nhiệm mới trong cuộc_sống hôn_nhân của mình ” , nam MC cho_hay . Trong guồng quay công_việc , Trấn_Thành chia_sẻ : “ Chúng_tôi cũng có dự_định sinh con trong vài năm tới khi cuộc_sống và kinh_tế đã ổn_định hơn . Còn hiện_tại , công_việc cứ cuốn lấy chúng_tôi . Mà chúng_tôi nghĩ , tuổi_trẻ chỉ đi qua một lần nên không_thể dừng chân được , cơ_hội qua đi thì không_thể quay lại nên phải tận_dụng thời_gian để hết_mình cho sự_nghiệp ” . “ Tôi sẽ làm cha khi nào thấy bản_thân đủ bản_lĩnh về kinh_tế , đức hy_sinh , thậm_chí không còn ham chơi nữa . Bởi lẽ , khi sinh con ra , tôi muốn nuôi dạy con tôi nên người . Tôi muốn làm người cha tốt và con tôi không_bao_giờ xấu_hổ về mình . Cho_nên khi nào bình an , bão_hoà trong tâm_hồn thì chúng_tôi sẽ dừng công_việc lại để_dành thời_gian trọn_vẹn cho đứa con ” , nam diễn_viên nói . Trấn_Thành khẳng_định Hari_Won sẽ là người mẹ tốt . Tuy_nhiên , có thời_điểm Trấn_Thành lo_lắng và không muốn cho Hari_Won sinh con vì nhìn thấy , cảm_nhận được sự đau_đớn của một người mẹ khi thực_hiện thiên_chức bà mẹ . Trong khi đó , ca_sĩ Hari_Won bộc_bạch : “ Tôi lớn lên trong một gia_đình khó_khăn . Hồi nhỏ , tôi thích đi học lắm , thích học đàn , học hát , học đủ thứ nhưng điều_kiện gia_đình lại không cho_phép . Bây_giờ đã kết_hôn và chuẩn_bị lên kế_hoạch sinh con , tôi muốn gia_đình nhỏ của mình phải vững_vàng về kinh_tế . Tôi muốn lo cho con mình đầy_đủ . Con thích học gì thì mình cũng có khả_năng chu_cấp cho con ” . Nữ nghệ_sĩ lo_sợ khi mình không có tiền để chăm_sóc cho con trong tương_lai . “ Nghĩ đến điều đó là tôi lại muốn khóc . Mà làm cha_mẹ thì ai cũng vậy cả . Nên chúng_tôi vẫn đang làm_việc hết_sức để sau_này lo cho con ” , Hari_Won bày_tỏ . Tham_gia chương_trình Khi đàn_ông mang bầu cùng với Hứa_Vĩ_Văn , Kỳ_Duyên , Hương_Giang và Trường_Giang , vợ_chồng Trấn_Thành – Hari_Won đã có những thay_đổi trong nhận_thức về trách_nhiệm của người làm mẹ lẫn những khó_khăn trong quá_trình mang_thai . Thậm_chí , nghệ_sĩ Trấn_Thành còn khẳng_định : “ Phụ_nữ có_thể yếu_đuối trong tình_cảm nhưng khi làm mẹ thì mạnh_mẽ , bản_lĩnh vô_cùng . Sức chịu_đựng của những bà mẹ thật vĩ_đại ” . Khi đàn_ông mang bầu là chương_trình truyền_hình thực_tế cho các nghệ_sĩ cảm_nhận , trải nghiệm cảm_giác mang bầu và lan_toả những câu_chuyện truyền cảm_hứng trong cuộc_sống . Khi đàn_ông mang bầu mùa đầu_tiên sẽ có 6 nghệ_sĩ tham_gia : Trấn_Thành , Hari_Won , Trường_Giang , Hương_Giang_Idol , Hứa_Vỹ_Văn và Hoa_hậu Kỳ_Duyên , chia làm 3 cặp . Mỗi nghệ_sĩ sẽ mang một chiếc áo có vi_mạch điện_tử , có trọng_lượng nặng đủ để tạo ra cảm_giác gần_như giống với cảm_giác mang_thai thật . Các nghệ_sĩ sẽ trải nghiệm thông_qua các thử_thách như : Lên kế_hoạch tài_chính để chào_đón con_cái ra_đời , trang_trí phòng_ngủ , kế_hoạch giáo_dục cho con_cái .... Tập đầu_tiên của chương_trình sẽ lên sóng VTV3 vào lúc 20h30 , bắt_đầu từ ngày 24/5/2018 .  Trần_Thành và Hari_Won đang chuẩn_bị tài_chính để sinh con . Trấn_Thành ngày_càng thương vợ hơn sau trải nghiệm cảm_giác mang bầu khi tham_gia chương_trình . Các nghệ_sĩ tham_gia chương_trình Khi đàn_ông mang bầu mùa đầu_tiên . \n"
          ]
        }
      ],
      "source": [
        "for i in range(10):\n",
        "    print('\\nPrediction: ',pred_str[i])\n",
        "    print('Truth: ',label_str[i])\n",
        "    print('Content: ',test_data[i]['original'])\n",
        "    "
      ]
    },
    {
      "cell_type": "code",
      "execution_count": 41,
      "metadata": {
        "colab": {
          "base_uri": "https://localhost:8080/",
          "height": 35
        },
        "id": "n4kLAIQSr5g2",
        "outputId": "b4d745cb-4599-43cf-e8c0-1ec9e5fdba6a"
      },
      "outputs": [
        {
          "data": {
            "text/plain": [
              "'data/vietnews-master/data/test_tokenized/006820.txt.seg'"
            ]
          },
          "execution_count": 41,
          "metadata": {},
          "output_type": "execute_result"
        }
      ],
      "source": [
        "test_data[0]['file']"
      ]
    }
  ],
  "metadata": {
    "accelerator": "GPU",
    "colab": {
      "include_colab_link": true,
      "machine_shape": "hm",
      "name": "testing-huggingface",
      "provenance": [],
      "toc_visible": true
    },
    "kernelspec": {
      "display_name": "Python 3",
      "name": "python3"
    },
    "language_info": {
      "codemirror_mode": {
        "name": "ipython",
        "version": 3
      },
      "file_extension": ".py",
      "mimetype": "text/x-python",
      "name": "python",
      "nbconvert_exporter": "python",
      "pygments_lexer": "ipython3",
      "version": "3.10.12"
    },
    "widgets": {
      "application/vnd.jupyter.widget-state+json": {
        "01644f724526402c9f139e19b2035073": {
          "model_module": "@jupyter-widgets/controls",
          "model_name": "DescriptionStyleModel",
          "state": {
            "_model_module": "@jupyter-widgets/controls",
            "_model_module_version": "1.5.0",
            "_model_name": "DescriptionStyleModel",
            "_view_count": null,
            "_view_module": "@jupyter-widgets/base",
            "_view_module_version": "1.2.0",
            "_view_name": "StyleView",
            "description_width": ""
          }
        },
        "03b57581ace346d2bde4378a7c6309ca": {
          "model_module": "@jupyter-widgets/base",
          "model_name": "LayoutModel",
          "state": {
            "_model_module": "@jupyter-widgets/base",
            "_model_module_version": "1.2.0",
            "_model_name": "LayoutModel",
            "_view_count": null,
            "_view_module": "@jupyter-widgets/base",
            "_view_module_version": "1.2.0",
            "_view_name": "LayoutView",
            "align_content": null,
            "align_items": null,
            "align_self": null,
            "border": null,
            "bottom": null,
            "display": null,
            "flex": null,
            "flex_flow": null,
            "grid_area": null,
            "grid_auto_columns": null,
            "grid_auto_flow": null,
            "grid_auto_rows": null,
            "grid_column": null,
            "grid_gap": null,
            "grid_row": null,
            "grid_template_areas": null,
            "grid_template_columns": null,
            "grid_template_rows": null,
            "height": null,
            "justify_content": null,
            "justify_items": null,
            "left": null,
            "margin": null,
            "max_height": null,
            "max_width": null,
            "min_height": null,
            "min_width": null,
            "object_fit": null,
            "object_position": null,
            "order": null,
            "overflow": null,
            "overflow_x": null,
            "overflow_y": null,
            "padding": null,
            "right": null,
            "top": null,
            "visibility": null,
            "width": null
          }
        },
        "09375b2aac814adcbb51589402eb8b68": {
          "model_module": "@jupyter-widgets/base",
          "model_name": "LayoutModel",
          "state": {
            "_model_module": "@jupyter-widgets/base",
            "_model_module_version": "1.2.0",
            "_model_name": "LayoutModel",
            "_view_count": null,
            "_view_module": "@jupyter-widgets/base",
            "_view_module_version": "1.2.0",
            "_view_name": "LayoutView",
            "align_content": null,
            "align_items": null,
            "align_self": null,
            "border": null,
            "bottom": null,
            "display": null,
            "flex": null,
            "flex_flow": null,
            "grid_area": null,
            "grid_auto_columns": null,
            "grid_auto_flow": null,
            "grid_auto_rows": null,
            "grid_column": null,
            "grid_gap": null,
            "grid_row": null,
            "grid_template_areas": null,
            "grid_template_columns": null,
            "grid_template_rows": null,
            "height": null,
            "justify_content": null,
            "justify_items": null,
            "left": null,
            "margin": null,
            "max_height": null,
            "max_width": null,
            "min_height": null,
            "min_width": null,
            "object_fit": null,
            "object_position": null,
            "order": null,
            "overflow": null,
            "overflow_x": null,
            "overflow_y": null,
            "padding": null,
            "right": null,
            "top": null,
            "visibility": null,
            "width": null
          }
        },
        "0aeb387a0f53469c8ff42e57647831d8": {
          "model_module": "@jupyter-widgets/controls",
          "model_name": "HTMLModel",
          "state": {
            "_dom_classes": [],
            "_model_module": "@jupyter-widgets/controls",
            "_model_module_version": "1.5.0",
            "_model_name": "HTMLModel",
            "_view_count": null,
            "_view_module": "@jupyter-widgets/controls",
            "_view_module_version": "1.5.0",
            "_view_name": "HTMLView",
            "description": "",
            "description_tooltip": null,
            "layout": "IPY_MODEL_7097c890712d418e9dd9c3e33873a2d5",
            "placeholder": "​",
            "style": "IPY_MODEL_01644f724526402c9f139e19b2035073",
            "value": " 6589/6589 [02:35&lt;00:00, 42.40ba/s]"
          }
        },
        "0d6a0b11ec2a4c6d975857678415f505": {
          "model_module": "@jupyter-widgets/base",
          "model_name": "LayoutModel",
          "state": {
            "_model_module": "@jupyter-widgets/base",
            "_model_module_version": "1.2.0",
            "_model_name": "LayoutModel",
            "_view_count": null,
            "_view_module": "@jupyter-widgets/base",
            "_view_module_version": "1.2.0",
            "_view_name": "LayoutView",
            "align_content": null,
            "align_items": null,
            "align_self": null,
            "border": null,
            "bottom": null,
            "display": null,
            "flex": null,
            "flex_flow": null,
            "grid_area": null,
            "grid_auto_columns": null,
            "grid_auto_flow": null,
            "grid_auto_rows": null,
            "grid_column": null,
            "grid_gap": null,
            "grid_row": null,
            "grid_template_areas": null,
            "grid_template_columns": null,
            "grid_template_rows": null,
            "height": null,
            "justify_content": null,
            "justify_items": null,
            "left": null,
            "margin": null,
            "max_height": null,
            "max_width": null,
            "min_height": null,
            "min_width": null,
            "object_fit": null,
            "object_position": null,
            "order": null,
            "overflow": null,
            "overflow_x": null,
            "overflow_y": null,
            "padding": null,
            "right": null,
            "top": null,
            "visibility": null,
            "width": null
          }
        },
        "0ef7f4e43319429d9277d55c83cb084d": {
          "model_module": "@jupyter-widgets/controls",
          "model_name": "HBoxModel",
          "state": {
            "_dom_classes": [],
            "_model_module": "@jupyter-widgets/controls",
            "_model_module_version": "1.5.0",
            "_model_name": "HBoxModel",
            "_view_count": null,
            "_view_module": "@jupyter-widgets/controls",
            "_view_module_version": "1.5.0",
            "_view_name": "HBoxView",
            "box_style": "",
            "children": [
              "IPY_MODEL_825d4b325e9b45859e808cd6b14fdd42",
              "IPY_MODEL_dd0bdf658c6d4c0cb0a091129ecbebb0"
            ],
            "layout": "IPY_MODEL_ab543b6ef5b34ed4acb85fd25304ed75"
          }
        },
        "1ba158d2f09a4c54bc647ebe77d27b60": {
          "model_module": "@jupyter-widgets/base",
          "model_name": "LayoutModel",
          "state": {
            "_model_module": "@jupyter-widgets/base",
            "_model_module_version": "1.2.0",
            "_model_name": "LayoutModel",
            "_view_count": null,
            "_view_module": "@jupyter-widgets/base",
            "_view_module_version": "1.2.0",
            "_view_name": "LayoutView",
            "align_content": null,
            "align_items": null,
            "align_self": null,
            "border": null,
            "bottom": null,
            "display": null,
            "flex": null,
            "flex_flow": null,
            "grid_area": null,
            "grid_auto_columns": null,
            "grid_auto_flow": null,
            "grid_auto_rows": null,
            "grid_column": null,
            "grid_gap": null,
            "grid_row": null,
            "grid_template_areas": null,
            "grid_template_columns": null,
            "grid_template_rows": null,
            "height": null,
            "justify_content": null,
            "justify_items": null,
            "left": null,
            "margin": null,
            "max_height": null,
            "max_width": null,
            "min_height": null,
            "min_width": null,
            "object_fit": null,
            "object_position": null,
            "order": null,
            "overflow": null,
            "overflow_x": null,
            "overflow_y": null,
            "padding": null,
            "right": null,
            "top": null,
            "visibility": null,
            "width": null
          }
        },
        "3598a3c015a64c20be134cf4d2e7fbbe": {
          "model_module": "@jupyter-widgets/base",
          "model_name": "LayoutModel",
          "state": {
            "_model_module": "@jupyter-widgets/base",
            "_model_module_version": "1.2.0",
            "_model_name": "LayoutModel",
            "_view_count": null,
            "_view_module": "@jupyter-widgets/base",
            "_view_module_version": "1.2.0",
            "_view_name": "LayoutView",
            "align_content": null,
            "align_items": null,
            "align_self": null,
            "border": null,
            "bottom": null,
            "display": null,
            "flex": null,
            "flex_flow": null,
            "grid_area": null,
            "grid_auto_columns": null,
            "grid_auto_flow": null,
            "grid_auto_rows": null,
            "grid_column": null,
            "grid_gap": null,
            "grid_row": null,
            "grid_template_areas": null,
            "grid_template_columns": null,
            "grid_template_rows": null,
            "height": null,
            "justify_content": null,
            "justify_items": null,
            "left": null,
            "margin": null,
            "max_height": null,
            "max_width": null,
            "min_height": null,
            "min_width": null,
            "object_fit": null,
            "object_position": null,
            "order": null,
            "overflow": null,
            "overflow_x": null,
            "overflow_y": null,
            "padding": null,
            "right": null,
            "top": null,
            "visibility": null,
            "width": null
          }
        },
        "5507016090f64bb99dcbf88e14d71eda": {
          "model_module": "@jupyter-widgets/controls",
          "model_name": "DescriptionStyleModel",
          "state": {
            "_model_module": "@jupyter-widgets/controls",
            "_model_module_version": "1.5.0",
            "_model_name": "DescriptionStyleModel",
            "_view_count": null,
            "_view_module": "@jupyter-widgets/base",
            "_view_module_version": "1.2.0",
            "_view_name": "StyleView",
            "description_width": ""
          }
        },
        "5ac8ad6eea254d369996622911a6a79e": {
          "model_module": "@jupyter-widgets/controls",
          "model_name": "FloatProgressModel",
          "state": {
            "_dom_classes": [],
            "_model_module": "@jupyter-widgets/controls",
            "_model_module_version": "1.5.0",
            "_model_name": "FloatProgressModel",
            "_view_count": null,
            "_view_module": "@jupyter-widgets/controls",
            "_view_module_version": "1.5.0",
            "_view_name": "ProgressView",
            "bar_style": "success",
            "description": "100%",
            "description_tooltip": null,
            "layout": "IPY_MODEL_e22006901f10483882e1a1f20f645b24",
            "max": 6589,
            "min": 0,
            "orientation": "horizontal",
            "style": "IPY_MODEL_efd6b87b93244d5ca6817ab35c385510",
            "value": 6589
          }
        },
        "63276058881e45539d8dcd4ff2e05edd": {
          "model_module": "@jupyter-widgets/controls",
          "model_name": "ProgressStyleModel",
          "state": {
            "_model_module": "@jupyter-widgets/controls",
            "_model_module_version": "1.5.0",
            "_model_name": "ProgressStyleModel",
            "_view_count": null,
            "_view_module": "@jupyter-widgets/base",
            "_view_module_version": "1.2.0",
            "_view_name": "StyleView",
            "bar_color": null,
            "description_width": "initial"
          }
        },
        "7097c890712d418e9dd9c3e33873a2d5": {
          "model_module": "@jupyter-widgets/base",
          "model_name": "LayoutModel",
          "state": {
            "_model_module": "@jupyter-widgets/base",
            "_model_module_version": "1.2.0",
            "_model_name": "LayoutModel",
            "_view_count": null,
            "_view_module": "@jupyter-widgets/base",
            "_view_module_version": "1.2.0",
            "_view_name": "LayoutView",
            "align_content": null,
            "align_items": null,
            "align_self": null,
            "border": null,
            "bottom": null,
            "display": null,
            "flex": null,
            "flex_flow": null,
            "grid_area": null,
            "grid_auto_columns": null,
            "grid_auto_flow": null,
            "grid_auto_rows": null,
            "grid_column": null,
            "grid_gap": null,
            "grid_row": null,
            "grid_template_areas": null,
            "grid_template_columns": null,
            "grid_template_rows": null,
            "height": null,
            "justify_content": null,
            "justify_items": null,
            "left": null,
            "margin": null,
            "max_height": null,
            "max_width": null,
            "min_height": null,
            "min_width": null,
            "object_fit": null,
            "object_position": null,
            "order": null,
            "overflow": null,
            "overflow_x": null,
            "overflow_y": null,
            "padding": null,
            "right": null,
            "top": null,
            "visibility": null,
            "width": null
          }
        },
        "70bb7c0669ca4a3699ad36dfdcc10910": {
          "model_module": "@jupyter-widgets/controls",
          "model_name": "HBoxModel",
          "state": {
            "_dom_classes": [],
            "_model_module": "@jupyter-widgets/controls",
            "_model_module_version": "1.5.0",
            "_model_name": "HBoxModel",
            "_view_count": null,
            "_view_module": "@jupyter-widgets/controls",
            "_view_module_version": "1.5.0",
            "_view_name": "HBoxView",
            "box_style": "",
            "children": [
              "IPY_MODEL_5ac8ad6eea254d369996622911a6a79e",
              "IPY_MODEL_0aeb387a0f53469c8ff42e57647831d8"
            ],
            "layout": "IPY_MODEL_1ba158d2f09a4c54bc647ebe77d27b60"
          }
        },
        "825d4b325e9b45859e808cd6b14fdd42": {
          "model_module": "@jupyter-widgets/controls",
          "model_name": "FloatProgressModel",
          "state": {
            "_dom_classes": [],
            "_model_module": "@jupyter-widgets/controls",
            "_model_module_version": "1.5.0",
            "_model_name": "FloatProgressModel",
            "_view_count": null,
            "_view_module": "@jupyter-widgets/controls",
            "_view_module_version": "1.5.0",
            "_view_name": "ProgressView",
            "bar_style": "success",
            "description": "100%",
            "description_tooltip": null,
            "layout": "IPY_MODEL_e21d97b40ffa43668b9962c5d771debb",
            "max": 22,
            "min": 0,
            "orientation": "horizontal",
            "style": "IPY_MODEL_f7c296a0b8a84ee3be45c92edb6aad21",
            "value": 22
          }
        },
        "a4898ec38618401396928eee2c4f9926": {
          "model_module": "@jupyter-widgets/controls",
          "model_name": "DescriptionStyleModel",
          "state": {
            "_model_module": "@jupyter-widgets/controls",
            "_model_module_version": "1.5.0",
            "_model_name": "DescriptionStyleModel",
            "_view_count": null,
            "_view_module": "@jupyter-widgets/base",
            "_view_module_version": "1.2.0",
            "_view_name": "StyleView",
            "description_width": ""
          }
        },
        "ab543b6ef5b34ed4acb85fd25304ed75": {
          "model_module": "@jupyter-widgets/base",
          "model_name": "LayoutModel",
          "state": {
            "_model_module": "@jupyter-widgets/base",
            "_model_module_version": "1.2.0",
            "_model_name": "LayoutModel",
            "_view_count": null,
            "_view_module": "@jupyter-widgets/base",
            "_view_module_version": "1.2.0",
            "_view_name": "LayoutView",
            "align_content": null,
            "align_items": null,
            "align_self": null,
            "border": null,
            "bottom": null,
            "display": null,
            "flex": null,
            "flex_flow": null,
            "grid_area": null,
            "grid_auto_columns": null,
            "grid_auto_flow": null,
            "grid_auto_rows": null,
            "grid_column": null,
            "grid_gap": null,
            "grid_row": null,
            "grid_template_areas": null,
            "grid_template_columns": null,
            "grid_template_rows": null,
            "height": null,
            "justify_content": null,
            "justify_items": null,
            "left": null,
            "margin": null,
            "max_height": null,
            "max_width": null,
            "min_height": null,
            "min_width": null,
            "object_fit": null,
            "object_position": null,
            "order": null,
            "overflow": null,
            "overflow_x": null,
            "overflow_y": null,
            "padding": null,
            "right": null,
            "top": null,
            "visibility": null,
            "width": null
          }
        },
        "b3ddde0882d841daa3bfde43ed6e6fc9": {
          "model_module": "@jupyter-widgets/controls",
          "model_name": "HBoxModel",
          "state": {
            "_dom_classes": [],
            "_model_module": "@jupyter-widgets/controls",
            "_model_module_version": "1.5.0",
            "_model_name": "HBoxModel",
            "_view_count": null,
            "_view_module": "@jupyter-widgets/controls",
            "_view_module_version": "1.5.0",
            "_view_name": "HBoxView",
            "box_style": "",
            "children": [
              "IPY_MODEL_cab0cd369bfa4c80b963ebd27d3e4974",
              "IPY_MODEL_db0264404d934633824b5b381b31a5ac"
            ],
            "layout": "IPY_MODEL_09375b2aac814adcbb51589402eb8b68"
          }
        },
        "cab0cd369bfa4c80b963ebd27d3e4974": {
          "model_module": "@jupyter-widgets/controls",
          "model_name": "FloatProgressModel",
          "state": {
            "_dom_classes": [],
            "_model_module": "@jupyter-widgets/controls",
            "_model_module_version": "1.5.0",
            "_model_name": "FloatProgressModel",
            "_view_count": null,
            "_view_module": "@jupyter-widgets/controls",
            "_view_module_version": "1.5.0",
            "_view_name": "ProgressView",
            "bar_style": "success",
            "description": "100%",
            "description_tooltip": null,
            "layout": "IPY_MODEL_03b57581ace346d2bde4378a7c6309ca",
            "max": 1416,
            "min": 0,
            "orientation": "horizontal",
            "style": "IPY_MODEL_63276058881e45539d8dcd4ff2e05edd",
            "value": 1416
          }
        },
        "db0264404d934633824b5b381b31a5ac": {
          "model_module": "@jupyter-widgets/controls",
          "model_name": "HTMLModel",
          "state": {
            "_dom_classes": [],
            "_model_module": "@jupyter-widgets/controls",
            "_model_module_version": "1.5.0",
            "_model_name": "HTMLModel",
            "_view_count": null,
            "_view_module": "@jupyter-widgets/controls",
            "_view_module_version": "1.5.0",
            "_view_name": "HTMLView",
            "description": "",
            "description_tooltip": null,
            "layout": "IPY_MODEL_0d6a0b11ec2a4c6d975857678415f505",
            "placeholder": "​",
            "style": "IPY_MODEL_5507016090f64bb99dcbf88e14d71eda",
            "value": " 1416/1416 [00:44&lt;00:00, 31.76ba/s]"
          }
        },
        "dd0bdf658c6d4c0cb0a091129ecbebb0": {
          "model_module": "@jupyter-widgets/controls",
          "model_name": "HTMLModel",
          "state": {
            "_dom_classes": [],
            "_model_module": "@jupyter-widgets/controls",
            "_model_module_version": "1.5.0",
            "_model_name": "HTMLModel",
            "_view_count": null,
            "_view_module": "@jupyter-widgets/controls",
            "_view_module_version": "1.5.0",
            "_view_name": "HTMLView",
            "description": "",
            "description_tooltip": null,
            "layout": "IPY_MODEL_3598a3c015a64c20be134cf4d2e7fbbe",
            "placeholder": "​",
            "style": "IPY_MODEL_a4898ec38618401396928eee2c4f9926",
            "value": " 22/22 [29:59&lt;00:00, 81.81s/ba]"
          }
        },
        "e21d97b40ffa43668b9962c5d771debb": {
          "model_module": "@jupyter-widgets/base",
          "model_name": "LayoutModel",
          "state": {
            "_model_module": "@jupyter-widgets/base",
            "_model_module_version": "1.2.0",
            "_model_name": "LayoutModel",
            "_view_count": null,
            "_view_module": "@jupyter-widgets/base",
            "_view_module_version": "1.2.0",
            "_view_name": "LayoutView",
            "align_content": null,
            "align_items": null,
            "align_self": null,
            "border": null,
            "bottom": null,
            "display": null,
            "flex": null,
            "flex_flow": null,
            "grid_area": null,
            "grid_auto_columns": null,
            "grid_auto_flow": null,
            "grid_auto_rows": null,
            "grid_column": null,
            "grid_gap": null,
            "grid_row": null,
            "grid_template_areas": null,
            "grid_template_columns": null,
            "grid_template_rows": null,
            "height": null,
            "justify_content": null,
            "justify_items": null,
            "left": null,
            "margin": null,
            "max_height": null,
            "max_width": null,
            "min_height": null,
            "min_width": null,
            "object_fit": null,
            "object_position": null,
            "order": null,
            "overflow": null,
            "overflow_x": null,
            "overflow_y": null,
            "padding": null,
            "right": null,
            "top": null,
            "visibility": null,
            "width": null
          }
        },
        "e22006901f10483882e1a1f20f645b24": {
          "model_module": "@jupyter-widgets/base",
          "model_name": "LayoutModel",
          "state": {
            "_model_module": "@jupyter-widgets/base",
            "_model_module_version": "1.2.0",
            "_model_name": "LayoutModel",
            "_view_count": null,
            "_view_module": "@jupyter-widgets/base",
            "_view_module_version": "1.2.0",
            "_view_name": "LayoutView",
            "align_content": null,
            "align_items": null,
            "align_self": null,
            "border": null,
            "bottom": null,
            "display": null,
            "flex": null,
            "flex_flow": null,
            "grid_area": null,
            "grid_auto_columns": null,
            "grid_auto_flow": null,
            "grid_auto_rows": null,
            "grid_column": null,
            "grid_gap": null,
            "grid_row": null,
            "grid_template_areas": null,
            "grid_template_columns": null,
            "grid_template_rows": null,
            "height": null,
            "justify_content": null,
            "justify_items": null,
            "left": null,
            "margin": null,
            "max_height": null,
            "max_width": null,
            "min_height": null,
            "min_width": null,
            "object_fit": null,
            "object_position": null,
            "order": null,
            "overflow": null,
            "overflow_x": null,
            "overflow_y": null,
            "padding": null,
            "right": null,
            "top": null,
            "visibility": null,
            "width": null
          }
        },
        "efd6b87b93244d5ca6817ab35c385510": {
          "model_module": "@jupyter-widgets/controls",
          "model_name": "ProgressStyleModel",
          "state": {
            "_model_module": "@jupyter-widgets/controls",
            "_model_module_version": "1.5.0",
            "_model_name": "ProgressStyleModel",
            "_view_count": null,
            "_view_module": "@jupyter-widgets/base",
            "_view_module_version": "1.2.0",
            "_view_name": "StyleView",
            "bar_color": null,
            "description_width": "initial"
          }
        },
        "f7c296a0b8a84ee3be45c92edb6aad21": {
          "model_module": "@jupyter-widgets/controls",
          "model_name": "ProgressStyleModel",
          "state": {
            "_model_module": "@jupyter-widgets/controls",
            "_model_module_version": "1.5.0",
            "_model_name": "ProgressStyleModel",
            "_view_count": null,
            "_view_module": "@jupyter-widgets/base",
            "_view_module_version": "1.2.0",
            "_view_name": "StyleView",
            "bar_color": null,
            "description_width": "initial"
          }
        }
      }
    }
  },
  "nbformat": 4,
  "nbformat_minor": 0
}
