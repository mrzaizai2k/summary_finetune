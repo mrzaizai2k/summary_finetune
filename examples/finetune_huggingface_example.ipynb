{
  "cells": [
    {
      "cell_type": "markdown",
      "metadata": {
        "id": "uVWe-Np2SrIA"
      },
      "source": [
        "## Train"
      ]
    },
    {
      "cell_type": "code",
      "execution_count": null,
      "metadata": {
        "id": "G7BBg2SNEaDa"
      },
      "outputs": [],
      "source": [
        "# %%capture\n",
        "# !pip install datasets evaluate transformers[sentencepiece]\n",
        "# !pip install rouge_score"
      ]
    },
    {
      "cell_type": "code",
      "execution_count": 1,
      "metadata": {
        "id": "wTz6PZF8EgxX"
      },
      "outputs": [
        {
          "name": "stdout",
          "output_type": "stream",
          "text": [
            "No command was given.\n",
            "\n",
            "Choose one of -b, -d, -e, or -r to do something.\n",
            "Try `/usr/bin/gsutil --help' for more information.\n"
          ]
        },
        {
          "name": "stdout",
          "output_type": "stream",
          "text": [
            "No command was given.\n",
            "\n",
            "Choose one of -b, -d, -e, or -r to do something.\n",
            "Try `/usr/bin/gsutil --help' for more information.\n"
          ]
        }
      ],
      "source": [
        "!gsutil cp -r gs://vietai_public/viT5/data/vietnews .\n",
        "!gsutil cp -r gs://vietai_public/viT5/data/wikilingua .\n"
      ]
    },
    {
      "cell_type": "code",
      "execution_count": null,
      "metadata": {
        "id": "eDuUZV7nF4IL"
      },
      "outputs": [],
      "source": [
        "from datasets import Dataset\n",
        "from transformers import AutoTokenizer, AutoModelForSeq2SeqLM, DataCollatorForSeq2Seq, Seq2SeqTrainer, TrainingArguments, Seq2SeqTrainingArguments\n",
        "from tqdm.notebook import tqdm\n",
        "from torch.utils.data import DataLoader\n"
      ]
    },
    {
      "cell_type": "code",
      "execution_count": null,
      "metadata": {
        "id": "ah6qWnJtF-Wn"
      },
      "outputs": [],
      "source": [
        "tokenizer = AutoTokenizer.from_pretrained(\"VietAI/vit5-base\")  \n",
        "model = AutoModelForSeq2SeqLM.from_pretrained(\"VietAI/vit5-base\")\n",
        "model.to('cuda')"
      ]
    },
    {
      "cell_type": "code",
      "execution_count": null,
      "metadata": {
        "id": "YgIAqjmjF9UC"
      },
      "outputs": [],
      "source": [
        "def preprocess_function(examples):\n",
        "    model_inputs = tokenizer(\n",
        "        examples[\"inputs\"], max_length=1024, truncation=True, padding=True\n",
        "    )\n",
        "    \n",
        "    with tokenizer.as_target_tokenizer():\n",
        "        labels = tokenizer(\n",
        "            examples[\"labels\"], max_length=256, truncation=True, padding=True\n",
        "        )\n",
        "    model_inputs['labels'] = labels['input_ids']\n",
        "    model_inputs['input_ids'] = model_inputs['input_ids']\n",
        "    return model_inputs"
      ]
    },
    {
      "cell_type": "code",
      "execution_count": null,
      "metadata": {
        "id": "7Obl3e6AFGzI"
      },
      "outputs": [],
      "source": [
        "input_lines = []\n",
        "label_lines = []\n",
        "\n",
        "task = 'wikilingua'\n",
        "train_file = 'train.tsv'\n",
        "\n",
        "with open(f'{task}/{train_file}') as file:\n",
        "  for line in file:\n",
        "    line = line.strip().split('\\t')\n",
        "    input_lines.append(line[0] +'</s>')\n",
        "    label_lines.append(line[1])\n",
        "\n",
        "\n",
        "dict_obj = {'inputs': input_lines, 'labels': label_lines}\n",
        "dataset = Dataset.from_dict(dict_obj)\n",
        "tokenized_datasets = dataset.map(preprocess_function, batched=True, remove_columns=['inputs'], num_proc=8)\n",
        "\n"
      ]
    },
    {
      "cell_type": "code",
      "execution_count": null,
      "metadata": {
        "id": "JHiwgkvsGfVD"
      },
      "outputs": [],
      "source": [
        "\n",
        "data_collator = DataCollatorForSeq2Seq(tokenizer, model=model, return_tensors=\"pt\")\n",
        "\n",
        "\n",
        "training_args = Seq2SeqTrainingArguments(\"tmp/\",\n",
        "                                      do_train=True,\n",
        "                                      do_eval=False,\n",
        "                                      num_train_epochs=30,\n",
        "                                      learning_rate=1e-5,\n",
        "                                      warmup_ratio=0.05,\n",
        "                                      weight_decay=0.01,\n",
        "                                      per_device_train_batch_size=4,\n",
        "                                      per_device_eval_batch_size=4,\n",
        "                                      logging_dir='./log',\n",
        "                                      group_by_length=True,\n",
        "                                      save_strategy=\"epoch\",\n",
        "                                      save_total_limit=3,\n",
        "                                      #eval_steps=1,\n",
        "                                      #evaluation_strategy=\"steps\",\n",
        "                                      # evaluation_strategy=\"no\",\n",
        "                                      fp16=True,\n",
        "                                      )\n",
        "\n",
        "\n",
        "# AdaFactor for ViT5-large models as it based on T5v1.1.\n",
        "# See https://medium.com/the-artificial-impostor/paper-adafactor-adaptive-learning-rates-with-sublinear-memory-cost-a543abffa37\n",
        "# \n",
        "# from transformers.optimization import Adafactor, AdafactorSchedule\n",
        "# optimizer = Adafactor(\n",
        "#     model.parameters(),\n",
        "#     lr=1e-3,\n",
        "#     eps=(1e-30, 1e-3),\n",
        "#     clip_threshold=1.0,\n",
        "#     decay_rate=-0.8,\n",
        "#     beta1=None,\n",
        "#     weight_decay=0.0,\n",
        "#     relative_step=False,\n",
        "#     scale_parameter=False,\n",
        "#     warmup_init=False\n",
        "# )\n",
        "# lr_scheduler = AdafactorSchedule(optimizer)\n"
      ]
    },
    {
      "cell_type": "code",
      "execution_count": null,
      "metadata": {
        "id": "2lnrMZZJHro8"
      },
      "outputs": [],
      "source": [
        "trainer = Seq2SeqTrainer(\n",
        "    model=model,\n",
        "    args=training_args,\n",
        "    train_dataset=tokenized_datasets,\n",
        "    data_collator=data_collator,\n",
        ")\n",
        "\n",
        "trainer.train()"
      ]
    },
    {
      "cell_type": "markdown",
      "metadata": {
        "id": "XzEWbrNMSo8c"
      },
      "source": [
        "## Inference"
      ]
    },
    {
      "cell_type": "code",
      "execution_count": null,
      "metadata": {
        "colab": {
          "base_uri": "https://localhost:8080/",
          "height": 49,
          "referenced_widgets": [
            "b16e4446ae95474993946beaddcbc565",
            "c118b8fbf2554989ba932a54b9c781d7",
            "ee1833b2e02948119d4894f35caacba2",
            "c30e8b7af9224ad78ebeff15f06efa70",
            "3c801dbd82834c1bb5b9498de60959f6",
            "9f7d19cd10594f4f864e2d5cb1eeff00",
            "2600f7d2e2a3407eb17bac378435e386",
            "57ae3070c9d742e4b2276db8fa7901e4",
            "cce258ceb99743e08b9ff6887bd88bae",
            "703a1a4b97c946b082ca686df89e04de",
            "5e5724ad5b0f4e56ad6465d603f7ff45"
          ]
        },
        "id": "BHCiygFJ7RhP",
        "outputId": "4c33325b-19b8-451a-80f8-b4f813676e0b"
      },
      "outputs": [
        {
          "data": {
            "application/vnd.jupyter.widget-view+json": {
              "model_id": "b16e4446ae95474993946beaddcbc565",
              "version_major": 2,
              "version_minor": 0
            },
            "text/plain": [
              "Downloading builder script:   0%|          | 0.00/2.16k [00:00<?, ?B/s]"
            ]
          },
          "metadata": {},
          "output_type": "display_data"
        }
      ],
      "source": [
        "from datasets import load_metric\n",
        "metric = load_metric(\"rouge\")\n"
      ]
    },
    {
      "cell_type": "code",
      "execution_count": null,
      "metadata": {
        "id": "55vewVrY7UG3"
      },
      "outputs": [],
      "source": [
        "input_lines = []\n",
        "label_lines = []\n",
        "with open(f'{task}/test.tsv') as file:\n",
        "  for line in file:\n",
        "    line = line.strip().split('\\t')\n",
        "    input = line[0]\n",
        "    input_lines.append(input +'</s>')\n",
        "    label_lines.append(line[1])\n",
        "\n",
        "\n",
        "\n",
        "input_lines  = input_lines\n",
        "label_lines = label_lines\n",
        "dict_obj = {'inputs': input_lines, 'labels': label_lines}\n",
        "\n",
        "dataset = Dataset.from_dict(dict_obj)\n",
        "test_tokenized_datasets = dataset.map(preprocess_function, batched=True, remove_columns=['inputs'], num_proc=10)\n",
        "data_collator = DataCollatorForSeq2Seq(tokenizer, model=model, return_tensors=\"pt\")"
      ]
    },
    {
      "cell_type": "code",
      "execution_count": null,
      "metadata": {
        "id": "Tk_hB4b-8GkP"
      },
      "outputs": [],
      "source": [
        "model = AutoModelForSeq2SeqLM.from_pretrained(\"/content/tmp/checkpoint-85675\")\n",
        "model.to('cuda')"
      ]
    },
    {
      "cell_type": "code",
      "execution_count": null,
      "metadata": {
        "id": "54ckcdzG7Xlc"
      },
      "outputs": [],
      "source": [
        "import torch \n",
        "import numpy as np\n",
        "metrics = load_metric('rouge')\n",
        "\n",
        "max_target_length = 256\n",
        "dataloader = torch.utils.data.DataLoader(test_tokenized_datasets, collate_fn=data_collator, batch_size=32)\n",
        "\n",
        "predictions = []\n",
        "references = []\n",
        "for i, batch in enumerate(tqdm(dataloader)):\n",
        "  outputs = model.generate(\n",
        "      input_ids=batch['input_ids'].to('cuda'),\n",
        "      max_length=max_target_length,\n",
        "      attention_mask=batch['attention_mask'].to('cuda'),\n",
        "  )\n",
        "  with tokenizer.as_target_tokenizer():\n",
        "    outputs = [tokenizer.decode(out, clean_up_tokenization_spaces=False, skip_special_tokens=True) for out in outputs]\n",
        "\n",
        "    labels = np.where(batch['labels'] != -100,  batch['labels'], tokenizer.pad_token_id)\n",
        "    actuals = [tokenizer.decode(out, clean_up_tokenization_spaces=False, skip_special_tokens=True) for out in labels]\n",
        "  predictions.extend(outputs)\n",
        "  references.extend(actuals)\n",
        "  metrics.add_batch(predictions=outputs, references=actuals)\n",
        "\n",
        "\n",
        "metrics.compute()\n"
      ]
    },
    {
      "cell_type": "code",
      "execution_count": null,
      "metadata": {
        "id": "pXJrSJVz7cOM"
      },
      "outputs": [],
      "source": [
        "[{k: v.mid.fmeasure} for k,v in metrics.compute(predictions=predictions, references=references).items()]\n"
      ]
    }
  ],
  "metadata": {
    "accelerator": "GPU",
    "colab": {
      "provenance": []
    },
    "gpuClass": "standard",
    "kernelspec": {
      "display_name": "base",
      "language": "python",
      "name": "python3"
    },
    "language_info": {
      "codemirror_mode": {
        "name": "ipython",
        "version": 3
      },
      "file_extension": ".py",
      "mimetype": "text/x-python",
      "name": "python",
      "nbconvert_exporter": "python",
      "pygments_lexer": "ipython3",
      "version": "3.10.12"
    },
    "vscode": {
      "interpreter": {
        "hash": "eedb55a3f3d5a08c90a45b02edd9d5201f64a9996f64fdac14a22b56503f46e8"
      }
    },
    "widgets": {
      "application/vnd.jupyter.widget-state+json": {
        "2600f7d2e2a3407eb17bac378435e386": {
          "model_module": "@jupyter-widgets/controls",
          "model_module_version": "1.5.0",
          "model_name": "DescriptionStyleModel",
          "state": {
            "_model_module": "@jupyter-widgets/controls",
            "_model_module_version": "1.5.0",
            "_model_name": "DescriptionStyleModel",
            "_view_count": null,
            "_view_module": "@jupyter-widgets/base",
            "_view_module_version": "1.2.0",
            "_view_name": "StyleView",
            "description_width": ""
          }
        },
        "3c801dbd82834c1bb5b9498de60959f6": {
          "model_module": "@jupyter-widgets/base",
          "model_module_version": "1.2.0",
          "model_name": "LayoutModel",
          "state": {
            "_model_module": "@jupyter-widgets/base",
            "_model_module_version": "1.2.0",
            "_model_name": "LayoutModel",
            "_view_count": null,
            "_view_module": "@jupyter-widgets/base",
            "_view_module_version": "1.2.0",
            "_view_name": "LayoutView",
            "align_content": null,
            "align_items": null,
            "align_self": null,
            "border": null,
            "bottom": null,
            "display": null,
            "flex": null,
            "flex_flow": null,
            "grid_area": null,
            "grid_auto_columns": null,
            "grid_auto_flow": null,
            "grid_auto_rows": null,
            "grid_column": null,
            "grid_gap": null,
            "grid_row": null,
            "grid_template_areas": null,
            "grid_template_columns": null,
            "grid_template_rows": null,
            "height": null,
            "justify_content": null,
            "justify_items": null,
            "left": null,
            "margin": null,
            "max_height": null,
            "max_width": null,
            "min_height": null,
            "min_width": null,
            "object_fit": null,
            "object_position": null,
            "order": null,
            "overflow": null,
            "overflow_x": null,
            "overflow_y": null,
            "padding": null,
            "right": null,
            "top": null,
            "visibility": null,
            "width": null
          }
        },
        "57ae3070c9d742e4b2276db8fa7901e4": {
          "model_module": "@jupyter-widgets/base",
          "model_module_version": "1.2.0",
          "model_name": "LayoutModel",
          "state": {
            "_model_module": "@jupyter-widgets/base",
            "_model_module_version": "1.2.0",
            "_model_name": "LayoutModel",
            "_view_count": null,
            "_view_module": "@jupyter-widgets/base",
            "_view_module_version": "1.2.0",
            "_view_name": "LayoutView",
            "align_content": null,
            "align_items": null,
            "align_self": null,
            "border": null,
            "bottom": null,
            "display": null,
            "flex": null,
            "flex_flow": null,
            "grid_area": null,
            "grid_auto_columns": null,
            "grid_auto_flow": null,
            "grid_auto_rows": null,
            "grid_column": null,
            "grid_gap": null,
            "grid_row": null,
            "grid_template_areas": null,
            "grid_template_columns": null,
            "grid_template_rows": null,
            "height": null,
            "justify_content": null,
            "justify_items": null,
            "left": null,
            "margin": null,
            "max_height": null,
            "max_width": null,
            "min_height": null,
            "min_width": null,
            "object_fit": null,
            "object_position": null,
            "order": null,
            "overflow": null,
            "overflow_x": null,
            "overflow_y": null,
            "padding": null,
            "right": null,
            "top": null,
            "visibility": null,
            "width": null
          }
        },
        "5e5724ad5b0f4e56ad6465d603f7ff45": {
          "model_module": "@jupyter-widgets/controls",
          "model_module_version": "1.5.0",
          "model_name": "DescriptionStyleModel",
          "state": {
            "_model_module": "@jupyter-widgets/controls",
            "_model_module_version": "1.5.0",
            "_model_name": "DescriptionStyleModel",
            "_view_count": null,
            "_view_module": "@jupyter-widgets/base",
            "_view_module_version": "1.2.0",
            "_view_name": "StyleView",
            "description_width": ""
          }
        },
        "703a1a4b97c946b082ca686df89e04de": {
          "model_module": "@jupyter-widgets/base",
          "model_module_version": "1.2.0",
          "model_name": "LayoutModel",
          "state": {
            "_model_module": "@jupyter-widgets/base",
            "_model_module_version": "1.2.0",
            "_model_name": "LayoutModel",
            "_view_count": null,
            "_view_module": "@jupyter-widgets/base",
            "_view_module_version": "1.2.0",
            "_view_name": "LayoutView",
            "align_content": null,
            "align_items": null,
            "align_self": null,
            "border": null,
            "bottom": null,
            "display": null,
            "flex": null,
            "flex_flow": null,
            "grid_area": null,
            "grid_auto_columns": null,
            "grid_auto_flow": null,
            "grid_auto_rows": null,
            "grid_column": null,
            "grid_gap": null,
            "grid_row": null,
            "grid_template_areas": null,
            "grid_template_columns": null,
            "grid_template_rows": null,
            "height": null,
            "justify_content": null,
            "justify_items": null,
            "left": null,
            "margin": null,
            "max_height": null,
            "max_width": null,
            "min_height": null,
            "min_width": null,
            "object_fit": null,
            "object_position": null,
            "order": null,
            "overflow": null,
            "overflow_x": null,
            "overflow_y": null,
            "padding": null,
            "right": null,
            "top": null,
            "visibility": null,
            "width": null
          }
        },
        "9f7d19cd10594f4f864e2d5cb1eeff00": {
          "model_module": "@jupyter-widgets/base",
          "model_module_version": "1.2.0",
          "model_name": "LayoutModel",
          "state": {
            "_model_module": "@jupyter-widgets/base",
            "_model_module_version": "1.2.0",
            "_model_name": "LayoutModel",
            "_view_count": null,
            "_view_module": "@jupyter-widgets/base",
            "_view_module_version": "1.2.0",
            "_view_name": "LayoutView",
            "align_content": null,
            "align_items": null,
            "align_self": null,
            "border": null,
            "bottom": null,
            "display": null,
            "flex": null,
            "flex_flow": null,
            "grid_area": null,
            "grid_auto_columns": null,
            "grid_auto_flow": null,
            "grid_auto_rows": null,
            "grid_column": null,
            "grid_gap": null,
            "grid_row": null,
            "grid_template_areas": null,
            "grid_template_columns": null,
            "grid_template_rows": null,
            "height": null,
            "justify_content": null,
            "justify_items": null,
            "left": null,
            "margin": null,
            "max_height": null,
            "max_width": null,
            "min_height": null,
            "min_width": null,
            "object_fit": null,
            "object_position": null,
            "order": null,
            "overflow": null,
            "overflow_x": null,
            "overflow_y": null,
            "padding": null,
            "right": null,
            "top": null,
            "visibility": null,
            "width": null
          }
        },
        "b16e4446ae95474993946beaddcbc565": {
          "model_module": "@jupyter-widgets/controls",
          "model_module_version": "1.5.0",
          "model_name": "HBoxModel",
          "state": {
            "_dom_classes": [],
            "_model_module": "@jupyter-widgets/controls",
            "_model_module_version": "1.5.0",
            "_model_name": "HBoxModel",
            "_view_count": null,
            "_view_module": "@jupyter-widgets/controls",
            "_view_module_version": "1.5.0",
            "_view_name": "HBoxView",
            "box_style": "",
            "children": [
              "IPY_MODEL_c118b8fbf2554989ba932a54b9c781d7",
              "IPY_MODEL_ee1833b2e02948119d4894f35caacba2",
              "IPY_MODEL_c30e8b7af9224ad78ebeff15f06efa70"
            ],
            "layout": "IPY_MODEL_3c801dbd82834c1bb5b9498de60959f6"
          }
        },
        "c118b8fbf2554989ba932a54b9c781d7": {
          "model_module": "@jupyter-widgets/controls",
          "model_module_version": "1.5.0",
          "model_name": "HTMLModel",
          "state": {
            "_dom_classes": [],
            "_model_module": "@jupyter-widgets/controls",
            "_model_module_version": "1.5.0",
            "_model_name": "HTMLModel",
            "_view_count": null,
            "_view_module": "@jupyter-widgets/controls",
            "_view_module_version": "1.5.0",
            "_view_name": "HTMLView",
            "description": "",
            "description_tooltip": null,
            "layout": "IPY_MODEL_9f7d19cd10594f4f864e2d5cb1eeff00",
            "placeholder": "​",
            "style": "IPY_MODEL_2600f7d2e2a3407eb17bac378435e386",
            "value": "Downloading builder script: "
          }
        },
        "c30e8b7af9224ad78ebeff15f06efa70": {
          "model_module": "@jupyter-widgets/controls",
          "model_module_version": "1.5.0",
          "model_name": "HTMLModel",
          "state": {
            "_dom_classes": [],
            "_model_module": "@jupyter-widgets/controls",
            "_model_module_version": "1.5.0",
            "_model_name": "HTMLModel",
            "_view_count": null,
            "_view_module": "@jupyter-widgets/controls",
            "_view_module_version": "1.5.0",
            "_view_name": "HTMLView",
            "description": "",
            "description_tooltip": null,
            "layout": "IPY_MODEL_703a1a4b97c946b082ca686df89e04de",
            "placeholder": "​",
            "style": "IPY_MODEL_5e5724ad5b0f4e56ad6465d603f7ff45",
            "value": " 5.60k/? [00:00&lt;00:00, 115kB/s]"
          }
        },
        "cce258ceb99743e08b9ff6887bd88bae": {
          "model_module": "@jupyter-widgets/controls",
          "model_module_version": "1.5.0",
          "model_name": "ProgressStyleModel",
          "state": {
            "_model_module": "@jupyter-widgets/controls",
            "_model_module_version": "1.5.0",
            "_model_name": "ProgressStyleModel",
            "_view_count": null,
            "_view_module": "@jupyter-widgets/base",
            "_view_module_version": "1.2.0",
            "_view_name": "StyleView",
            "bar_color": null,
            "description_width": ""
          }
        },
        "ee1833b2e02948119d4894f35caacba2": {
          "model_module": "@jupyter-widgets/controls",
          "model_module_version": "1.5.0",
          "model_name": "FloatProgressModel",
          "state": {
            "_dom_classes": [],
            "_model_module": "@jupyter-widgets/controls",
            "_model_module_version": "1.5.0",
            "_model_name": "FloatProgressModel",
            "_view_count": null,
            "_view_module": "@jupyter-widgets/controls",
            "_view_module_version": "1.5.0",
            "_view_name": "ProgressView",
            "bar_style": "success",
            "description": "",
            "description_tooltip": null,
            "layout": "IPY_MODEL_57ae3070c9d742e4b2276db8fa7901e4",
            "max": 2160,
            "min": 0,
            "orientation": "horizontal",
            "style": "IPY_MODEL_cce258ceb99743e08b9ff6887bd88bae",
            "value": 2160
          }
        }
      }
    }
  },
  "nbformat": 4,
  "nbformat_minor": 0
}
